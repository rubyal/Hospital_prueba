{
 "cells": [
  {
   "cell_type": "markdown",
   "id": "0decd1ab",
   "metadata": {},
   "source": [
    "\n",
    "# Informe Técnico de Calidad de Datos\n",
    "\n",
    "Objetivo: Analizar, limpiar y validar el archivo dataset_hospital.json para mejorar la calidad de los datos de pacientes.\n",
    "\n",
    "- Realizar un análisis exploratorio de los datos (EDA).\n",
    "- Detectar y documentar problemas de calidad en el dataset.\n",
    "- Implementar una estrategia de limpieza de datos con supuestos claros.\n",
    "- Evaluar la mejora en la calidad del dataset antes y después de la limpieza.\n",
    "- Exportar una versión limpia del dataset para uso posterior.\n",
    "- Implementar pruebas automatizadas de validación de integridad.\n",
    "- Simular una migración de datos limpios a un Data Warehouse\n",
    "\n",
    "## Parte 1 – Análisis de Calidad de Datos\n",
    "\n",
    "### Problemas identificados en `pacientes`:\n",
    "- Inconsistencias en el campo `sexo` (valores como `M`, `F`, `Male`, `Female`, `null`).\n",
    "- Campos nulos en `email`, `telefono`, `ciudad`, y `edad`.\n",
    "- Fechas de nacimiento mal formateadas o inválidas.\n",
    "- Edad que no coincide con la fecha de nacimiento.\n",
    "\n",
    "\n",
    "## Parte 2 – Limpieza y Validación\n",
    "\n",
    "Se aplicaron las siguientes transformaciones:\n",
    "- Normalización del campo `sexo`.\n",
    "- Cálculo de edad a partir de la fecha de nacimiento si el valor estaba ausente o incorrecto.\n",
    "- Corrección de formatos de fecha.\n",
    "- Eliminación o imputación de valores nulos según el campo.\n",
    "\n",
    "## Parte 3 – Indicadores de Calidad\n",
    "\n",
    "A continuación, se muestran las métricas antes y después del proceso de limpieza:\n",
    "- Total de registros nulos por campo.\n",
    "- Distribución de valores únicos por columna.\n",
    "- Cantidad de duplicados y registros corregidos.\n",
    "\n",
    "## Supuestos Adoptados\n",
    "- El campo `sexo` se estandariza a 'F' y 'M'.\n",
    "- Se usa el año actual para calcular la edad.\n",
    "- Si no se puede corregir un registro crítico (ej. fecha de nacimiento inválida), se marca como inválido.\n",
    "\n",
    "## Recomendaciones\n",
    "- Validar entrada de datos desde la fuente.\n",
    "- Usar formularios con listas controladas para sexo y fechas.\n",
    "- Automatizar revisiones periódicas de calidad.\n",
    "\n",
    "---\n"
   ]
  },
  {
   "cell_type": "code",
   "execution_count": 1,
   "id": "2de28c5e",
   "metadata": {},
   "outputs": [
    {
     "data": {
      "text/html": [
       "<div>\n",
       "<style scoped>\n",
       "    .dataframe tbody tr th:only-of-type {\n",
       "        vertical-align: middle;\n",
       "    }\n",
       "\n",
       "    .dataframe tbody tr th {\n",
       "        vertical-align: top;\n",
       "    }\n",
       "\n",
       "    .dataframe thead th {\n",
       "        text-align: right;\n",
       "    }\n",
       "</style>\n",
       "<table border=\"1\" class=\"dataframe\">\n",
       "  <thead>\n",
       "    <tr style=\"text-align: right;\">\n",
       "      <th></th>\n",
       "      <th>id_paciente</th>\n",
       "      <th>nombre</th>\n",
       "      <th>fecha_nacimiento</th>\n",
       "      <th>edad</th>\n",
       "      <th>sexo</th>\n",
       "      <th>email</th>\n",
       "      <th>telefono</th>\n",
       "      <th>ciudad</th>\n",
       "    </tr>\n",
       "  </thead>\n",
       "  <tbody>\n",
       "    <tr>\n",
       "      <th>0</th>\n",
       "      <td>1</td>\n",
       "      <td>Claudia Torres</td>\n",
       "      <td>1954-01-08</td>\n",
       "      <td>NaN</td>\n",
       "      <td>Female</td>\n",
       "      <td>user1@example.com</td>\n",
       "      <td>342-950-1064</td>\n",
       "      <td>Barranquilla</td>\n",
       "    </tr>\n",
       "    <tr>\n",
       "      <th>1</th>\n",
       "      <td>2</td>\n",
       "      <td>Carlos Gómez</td>\n",
       "      <td>1965-01-01</td>\n",
       "      <td>58.0</td>\n",
       "      <td>Female</td>\n",
       "      <td>None</td>\n",
       "      <td>None</td>\n",
       "      <td>Cali</td>\n",
       "    </tr>\n",
       "    <tr>\n",
       "      <th>2</th>\n",
       "      <td>3</td>\n",
       "      <td>Carlos Gómez</td>\n",
       "      <td>2009-03-08</td>\n",
       "      <td>16.0</td>\n",
       "      <td>None</td>\n",
       "      <td>user3@example.com</td>\n",
       "      <td>3157898999</td>\n",
       "      <td>Bucaramanga</td>\n",
       "    </tr>\n",
       "    <tr>\n",
       "      <th>3</th>\n",
       "      <td>4</td>\n",
       "      <td>Andrea López</td>\n",
       "      <td>1951-11-18</td>\n",
       "      <td>47.0</td>\n",
       "      <td>F</td>\n",
       "      <td>user4@example.com</td>\n",
       "      <td>None</td>\n",
       "      <td>Barranquilla</td>\n",
       "    </tr>\n",
       "    <tr>\n",
       "      <th>4</th>\n",
       "      <td>5</td>\n",
       "      <td>Juan Gómez</td>\n",
       "      <td>1961-09-05</td>\n",
       "      <td>81.0</td>\n",
       "      <td>Female</td>\n",
       "      <td>user5@example.com</td>\n",
       "      <td>None</td>\n",
       "      <td>Bucaramanga</td>\n",
       "    </tr>\n",
       "  </tbody>\n",
       "</table>\n",
       "</div>"
      ],
      "text/plain": [
       "   id_paciente          nombre fecha_nacimiento  edad    sexo  \\\n",
       "0            1  Claudia Torres       1954-01-08   NaN  Female   \n",
       "1            2    Carlos Gómez       1965-01-01  58.0  Female   \n",
       "2            3    Carlos Gómez       2009-03-08  16.0    None   \n",
       "3            4    Andrea López       1951-11-18  47.0       F   \n",
       "4            5      Juan Gómez       1961-09-05  81.0  Female   \n",
       "\n",
       "               email      telefono        ciudad  \n",
       "0  user1@example.com  342-950-1064  Barranquilla  \n",
       "1               None          None          Cali  \n",
       "2  user3@example.com    3157898999   Bucaramanga  \n",
       "3  user4@example.com          None  Barranquilla  \n",
       "4  user5@example.com          None   Bucaramanga  "
      ]
     },
     "execution_count": 1,
     "metadata": {},
     "output_type": "execute_result"
    }
   ],
   "source": [
    "\n",
    "import pandas as pd\n",
    "import json\n",
    "\n",
    "# Cargar JSON\n",
    "with open(\"dataset_hospital 2.json\", \"r\", encoding=\"utf-8\") as f:\n",
    "    data = json.load(f)\n",
    "\n",
    "# Convertir a DataFrame\n",
    "df_hospital = pd.DataFrame(data['pacientes'])\n",
    "\n",
    "# Mostrar primeros registros\n",
    "df_hospital.head()\n"
   ]
  },
  {
   "cell_type": "code",
   "execution_count": 2,
   "id": "42657f27-07d8-4b55-8875-5e6bb0572e2f",
   "metadata": {},
   "outputs": [
    {
     "name": "stdout",
     "output_type": "stream",
     "text": [
      "5010\n",
      "5010\n"
     ]
    }
   ],
   "source": [
    "print(len(df_hospital))  # Total de registros\n",
    "\n",
    "print(df_hospital.shape[0])  # Número de filas\n"
   ]
  },
  {
   "cell_type": "code",
   "execution_count": 3,
   "id": "b01183ef",
   "metadata": {},
   "outputs": [],
   "source": [
    "\n",
    "import matplotlib.pyplot as plt\n",
    "import seaborn as sns\n",
    "\n",
    "# Configuración general\n",
    "plt.style.use('ggplot')\n"
   ]
  },
  {
   "cell_type": "code",
   "execution_count": 4,
   "id": "2085012e",
   "metadata": {},
   "outputs": [
    {
     "name": "stderr",
     "output_type": "stream",
     "text": [
      "/var/folders/31/xbrv9ds91f5grdf0pxxyw0g00000gp/T/ipykernel_7830/2753536626.py:4: FutureWarning: \n",
      "\n",
      "Passing `palette` without assigning `hue` is deprecated and will be removed in v0.14.0. Assign the `y` variable to `hue` and set `legend=False` for the same effect.\n",
      "\n",
      "  sns.barplot(x=nulls.values, y=nulls.index, palette='Reds_d')\n"
     ]
    },
    {
     "data": {
      "image/png": "[encoded data removed]",
      "text/plain": [
       "<Figure size 1000x600 with 1 Axes>"
      ]
     },
     "metadata": {},
     "output_type": "display_data"
    }
   ],
   "source": [
    "\n",
    "# Visualizar valores nulos por columna\n",
    "nulls = df_hospital.isnull().sum().sort_values(ascending=False)\n",
    "plt.figure(figsize=(10,6))\n",
    "sns.barplot(x=nulls.values, y=nulls.index, palette='Reds_d')\n",
    "plt.title(\"Valores Nulos por Columna en 'pacientes'\")\n",
    "plt.xlabel(\"Cantidad de Nulos\")\n",
    "plt.ylabel(\"Columnas\")\n",
    "plt.tight_layout()\n",
    "plt.show()\n"
   ]
  },
  {
   "cell_type": "code",
   "execution_count": 5,
   "id": "e33ded1e",
   "metadata": {},
   "outputs": [
    {
     "data": {
      "image/png": "[encoded data removed]",
      "text/plain": [
       "<Figure size 600x400 with 1 Axes>"
      ]
     },
     "metadata": {},
     "output_type": "display_data"
    }
   ],
   "source": [
    "\n",
    "# Distribución de 'sexo'\n",
    "plt.figure(figsize=(6,4))\n",
    "sns.countplot(data=df_hospital, x='sexo', order=df_hospital['sexo'].value_counts().index)\n",
    "plt.title(\"Distribución de Sexo\")\n",
    "plt.ylabel(\"Cantidad\")\n",
    "plt.xlabel(\"Sexo\")\n",
    "plt.tight_layout()\n",
    "plt.show()\n"
   ]
  },
  {
   "cell_type": "code",
   "execution_count": 6,
   "id": "6f695e59",
   "metadata": {},
   "outputs": [
    {
     "data": {
      "image/png": "[encoded data removed]",
      "text/plain": [
       "<Figure size 640x480 with 1 Axes>"
      ]
     },
     "metadata": {},
     "output_type": "display_data"
    }
   ],
   "source": [
    "# Histograma de edades\n",
    "sns.histplot(df_hospital['edad'], bins=10, kde=True)\n",
    "plt.title('Distribución de Edades')\n",
    "plt.show()"
   ]
  },
  {
   "cell_type": "code",
   "execution_count": 7,
   "id": "79342b13",
   "metadata": {},
   "outputs": [
    {
     "data": {
      "image/png": "[encoded data removed]",
      "text/plain": [
       "<Figure size 800x500 with 1 Axes>"
      ]
     },
     "metadata": {},
     "output_type": "display_data"
    }
   ],
   "source": [
    "\n",
    "# Histograma de edad (después de eliminar nulos)\n",
    "plt.figure(figsize=(8,5))\n",
    "df_hospital['edad'].dropna().astype(int).hist(bins=30)\n",
    "plt.title(\"Distribución de Edad\")\n",
    "plt.xlabel(\"Edad\")\n",
    "plt.ylabel(\"Cantidad de Pacientes\")\n",
    "plt.tight_layout()\n",
    "plt.show()\n"
   ]
  },
  {
   "cell_type": "code",
   "execution_count": 8,
   "id": "8757c946",
   "metadata": {},
   "outputs": [],
   "source": [
    "#Librerias\n",
    "import pandas as pd\n",
    "import json\n",
    "import matplotlib.pyplot as plt\n",
    "import seaborn as sns"
   ]
  },
  {
   "cell_type": "code",
   "execution_count": 9,
   "id": "a0a6f121",
   "metadata": {},
   "outputs": [],
   "source": [
    "df_hospital = df_hospital.copy()"
   ]
  },
  {
   "cell_type": "markdown",
   "id": "865522f1",
   "metadata": {},
   "source": [
    "## Analisis exploratorio (EDA)"
   ]
  },
  {
   "cell_type": "markdown",
   "id": "4c08d952-b650-4a51-b599-ae91d3ca0d07",
   "metadata": {},
   "source": [
    "\n",
    "Se analizaron 5,010 registros correspondientes a pacientes del hospital. Las principales columnas evaluadas fueron:\n",
    "\n",
    "id_paciente: Identificador único.\n",
    "nombre: Nombre completo del paciente.\n",
    "fecha_nacimiento: Fecha de nacimiento.\n",
    "edad: Edad declarada.\n",
    "sexo: Género.\n",
    "email: Dirección de correo electrónico.\n",
    "telefono: Número de contacto.\n",
    "ciudad: Ciudad de residencia.\n",
    "\n",
    "Distribuciones Generales\n",
    "Sexo\n",
    "Valores únicos detectados: 'F', 'M', 'Female', 'Male'\n",
    "\n",
    "Nulos: 1,023 registros (20.4%)\n",
    "\n",
    "Inconsistencias: Uso de múltiples formatos (requiere estandarización a 'Masculino'/'Femenino')\n",
    "\n",
    "Edad\n",
    "Nulos: 1,647 registros (32.9%)\n",
    "\n",
    "Inconsistencias: 2,519 registros con edad declarada diferente a la calculada desde fecha_nacimiento\n",
    "\n",
    "Improbables: 0 edades menores a 1 o mayores a 100\n",
    "\n",
    "Fecha de nacimiento\n",
    "Formato no ISO: 3 registros (ej. \"02 de nov de 1977\")\n",
    "\n",
    "Fechas inválidas: 3 registros con fechas como \"1959-06-33\"\n",
    "\n",
    "Email\n",
    "Nulos: 2,506 registros (50%)\n",
    "\n",
    "Formato inválido: No se detectaron formatos inválidos en los datos presentes\n",
    "\n",
    "Teléfono\n",
    "Nulos: 1,668 registros (33.3%)\n",
    "\n",
    "Formatos mixtos: 0 inconsistencias detectadas con la expresión regular estándar\n",
    "\n",
    "Ciudad\n",
    "Nulos: 827 registros (16.5%)\n",
    "\n",
    "Principales ciudades:\n",
    "\n",
    "Cali: 861\n",
    "\n",
    "Bogotá: 856\n",
    "\n",
    "Bucaramanga: 847\n",
    "\n",
    "Medellín: 812\n",
    "\n",
    "Barranquilla: 807\n",
    "\n",
    "Validaciones Realizadas\n",
    "ID único (id_paciente): No es único, existen duplicados\n",
    "\n",
    "Edad vs Fecha de Nacimiento: 2,519 registros presentan discrepancias\n",
    "\n",
    "Formato de Fecha: 3 registros con formato no estándar (no ISO)\n",
    "\n",
    "Estandarización de Género: Se detectaron al menos 4 variantes que requieren mapeo\n",
    "\n",
    "Formato de Teléfono: Todos los valores presentes cumplen el formato nnn-nnn-nnnn o similar, pero requieren estandarización final para evitar ambigüedad\n",
    "\n",
    "Resumen de Problemas Detectados\n",
    "Problema\tRegistros afectados\n",
    "Edades nulas\t1,647\n",
    "Edades incorrectas según nacimiento\t2,519\n",
    "Sexo nulo\t1,023\n",
    "Sexo con formatos múltiples\t4 variantes\n",
    "Fecha no ISO\t3\n",
    "Fecha inválida\t3\n",
    "Teléfono nulo\t1,668\n",
    "Ciudad nula\t827\n",
    "Email nulo\t2,506\n",
    "IDs duplicados\tSí (no únicos)"
   ]
  },
  {
   "cell_type": "code",
   "execution_count": 10,
   "id": "c7d616c7",
   "metadata": {},
   "outputs": [
    {
     "name": "stdout",
     "output_type": "stream",
     "text": [
      "\n",
      "Estadísticas:\n",
      "        id_paciente      nombre fecha_nacimiento         edad  sexo  \\\n",
      "count   5010.000000        5010             5010  3363.000000  3987   \n",
      "unique          NaN          25             4504          NaN     4   \n",
      "top             NaN  Juan Gómez       1951-04-23          NaN  Male   \n",
      "freq            NaN         224                4          NaN  1049   \n",
      "mean    2500.998004         NaN              NaN    47.858460   NaN   \n",
      "std     1443.548269         NaN              NaN    20.793699   NaN   \n",
      "min        1.000000         NaN              NaN    10.000000   NaN   \n",
      "25%     1251.250000         NaN              NaN    30.000000   NaN   \n",
      "50%     2500.500000         NaN              NaN    48.000000   NaN   \n",
      "75%     3750.750000         NaN              NaN    64.000000   NaN   \n",
      "max     5000.000000         NaN              NaN    90.000000   NaN   \n",
      "\n",
      "                       email    telefono ciudad  \n",
      "count                   2504        3342   4183  \n",
      "unique                  2497        3336      5  \n",
      "top     user5000@example.com  3163824755   Cali  \n",
      "freq                       2           2    861  \n",
      "mean                     NaN         NaN    NaN  \n",
      "std                      NaN         NaN    NaN  \n",
      "min                      NaN         NaN    NaN  \n",
      "25%                      NaN         NaN    NaN  \n",
      "50%                      NaN         NaN    NaN  \n",
      "75%                      NaN         NaN    NaN  \n",
      "max                      NaN         NaN    NaN  \n"
     ]
    }
   ],
   "source": [
    "# Estadísticas descriptivas\n",
    "print(\"\\nEstadísticas:\")\n",
    "print(df_hospital.describe(include='all'))"
   ]
  },
  {
   "cell_type": "code",
   "execution_count": 11,
   "id": "604e994f",
   "metadata": {},
   "outputs": [
    {
     "data": {
      "image/png": "[encoded data removed]",
      "text/plain": [
       "<Figure size 640x480 with 1 Axes>"
      ]
     },
     "metadata": {},
     "output_type": "display_data"
    },
    {
     "data": {
      "image/png": "[encoded data removed]",
      "text/plain": [
       "<Figure size 640x480 with 1 Axes>"
      ]
     },
     "metadata": {},
     "output_type": "display_data"
    },
    {
     "data": {
      "image/png": "[encoded data removed]",
      "text/plain": [
       "<Figure size 640x480 with 1 Axes>"
      ]
     },
     "metadata": {},
     "output_type": "display_data"
    }
   ],
   "source": [
    "# Histograma de edades\n",
    "sns.histplot(df_hospital['edad'], bins=10, kde=True)\n",
    "plt.title('Distribución de Edades')\n",
    "plt.show()\n",
    "\n",
    "# Conteo por ciudad\n",
    "sns.countplot(data=df_hospital, x='ciudad')\n",
    "plt.title('Cantidad de personas por ciudad')\n",
    "plt.show()\n",
    "\n",
    "# Conteo por sexo\n",
    "sns.countplot(data=df_hospital, x='sexo')\n",
    "plt.title('Cantidad de personas por sexo')\n",
    "plt.show()"
   ]
  },
  {
   "cell_type": "code",
   "execution_count": 12,
   "id": "33343fd8",
   "metadata": {},
   "outputs": [
    {
     "data": {
      "image/png": "[encoded data removed]",
      "text/plain": [
       "<Figure size 640x480 with 1 Axes>"
      ]
     },
     "metadata": {},
     "output_type": "display_data"
    }
   ],
   "source": [
    "sns.boxplot(x=df_hospital['edad'])\n",
    "plt.title('Outliers (valores atípicos) por edad')\n",
    "plt.show()\n"
   ]
  },
  {
   "cell_type": "code",
   "execution_count": 13,
   "id": "8a84d0d8-719c-49d7-832d-37767cb25e87",
   "metadata": {},
   "outputs": [
    {
     "name": "stdout",
     "output_type": "stream",
     "text": [
      "IDs duplicados detectados\n",
      "Valores inválidos en sexo: ['F', 'M']\n",
      "\n",
      "Resultado de validaciones:\n",
      "Columnas esperadas: PASA\n",
      "ID único: FALLA\n",
      "Edad positiva: PASA\n",
      "Sexo válido: FALLA\n",
      "Email válido: PASA\n"
     ]
    }
   ],
   "source": [
    "import pandas as pd\n",
    "import json\n",
    "import re\n",
    "\n",
    "\n",
    "# Funciones de validación que devuelven bool e imprimen resultados\n",
    "def test_columnas_esperadas(df):\n",
    "    columnas_esperadas = {'id_paciente', 'nombre', 'fecha_nacimiento', 'edad', 'sexo', 'email', 'telefono', 'ciudad'}\n",
    "    resultado = columnas_esperadas.issubset(df.columns)\n",
    "    if not resultado:\n",
    "        print(\"Columnas faltantes:\", columnas_esperadas - set(df.columns))\n",
    "    return resultado\n",
    "\n",
    "def test_id_paciente_unico(df):\n",
    "    resultado = df['id_paciente'].is_unique\n",
    "    if not resultado:\n",
    "        print(\"IDs duplicados detectados\")\n",
    "    return resultado\n",
    "\n",
    "def test_edad_positiva(df):\n",
    "    edades = df['edad'].dropna()\n",
    "    resultado = (edades >= 0).all()\n",
    "    if not resultado:\n",
    "        print(\"Edades negativas encontradas:\", edades[edades < 0].tolist())\n",
    "    return resultado\n",
    "\n",
    "def test_formato_sexo_valido(df):\n",
    "    valores_validos = {'Male', 'Female', None}\n",
    "    invalidos = df['sexo'].dropna()[~df['sexo'].dropna().isin(valores_validos)]\n",
    "    resultado = invalidos.empty\n",
    "    if not resultado:\n",
    "        print(\"Valores inválidos en sexo:\", invalidos.unique().tolist())\n",
    "    return resultado\n",
    "\n",
    "def test_email_valido(df):\n",
    "    pattern = r'^[^@\\s]+@[^@\\s]+\\.[^@\\s]+$'\n",
    "    emails = df['email'].dropna()\n",
    "    invalidos = emails[~emails.apply(lambda x: re.match(pattern, x) is not None)]\n",
    "    resultado = invalidos.empty\n",
    "    if not resultado:\n",
    "        print(\"Emails inválidos:\", invalidos.tolist())\n",
    "    return resultado\n",
    "\n",
    "# Ejecutar tests\n",
    "tests = {\n",
    "    \"Columnas esperadas\": test_columnas_esperadas(df_hospital),\n",
    "    \"ID único\": test_id_paciente_unico(df_hospital),\n",
    "    \"Edad positiva\": test_edad_positiva(df_hospital),\n",
    "    \"Sexo válido\": test_formato_sexo_valido(df_hospital),\n",
    "    \"Email válido\": test_email_valido(df_hospital),\n",
    "}\n",
    "\n",
    "# Imprimir resumen\n",
    "print(\"\\nResultado de validaciones:\")\n",
    "for nombre, resultado in tests.items():\n",
    "    print(f\"{nombre}: {'PASA' if resultado else 'FALLA'}\")"
   ]
  },
  {
   "cell_type": "markdown",
   "id": "44d5bb4b",
   "metadata": {},
   "source": [
    "## Calidad"
   ]
  },
  {
   "cell_type": "code",
   "execution_count": 14,
   "id": "0c51b65c",
   "metadata": {},
   "outputs": [
    {
     "name": "stdout",
     "output_type": "stream",
     "text": [
      "id_paciente            0\n",
      "nombre                 0\n",
      "fecha_nacimiento       0\n",
      "edad                1647\n",
      "sexo                1023\n",
      "email               2506\n",
      "telefono            1668\n",
      "ciudad               827\n",
      "dtype: int64\n"
     ]
    }
   ],
   "source": [
    "#Datos faltantes por columna\n",
    "\n",
    "print(df_hospital.isnull().sum())"
   ]
  },
  {
   "cell_type": "code",
   "execution_count": 15,
   "id": "367518e3",
   "metadata": {},
   "outputs": [
    {
     "name": "stdout",
     "output_type": "stream",
     "text": [
      "id_paciente           int64\n",
      "nombre               object\n",
      "fecha_nacimiento     object\n",
      "edad                float64\n",
      "sexo                 object\n",
      "email                object\n",
      "telefono             object\n",
      "ciudad               object\n",
      "dtype: object\n"
     ]
    }
   ],
   "source": [
    "# Tipos de datos\n",
    "print(df_hospital.dtypes)"
   ]
  },
  {
   "cell_type": "code",
   "execution_count": 16,
   "id": "ed058388",
   "metadata": {},
   "outputs": [
    {
     "name": "stdout",
     "output_type": "stream",
     "text": [
      "Número de filas duplicadas: 10\n"
     ]
    }
   ],
   "source": [
    "#Filas duplicadas\n",
    "print(\"Número de filas duplicadas:\", df_hospital.duplicated().sum())"
   ]
  },
  {
   "cell_type": "code",
   "execution_count": 17,
   "id": "c576c6ab-1318-4767-8005-d1a79d54b294",
   "metadata": {},
   "outputs": [
    {
     "name": "stdout",
     "output_type": "stream",
     "text": [
      "columnas_esperadas: PASA\n",
      "id_unico: FALLA\n",
      "edad_positiva: PASA\n",
      "sexo_valido: FALLA\n",
      "email_valido: PASA\n"
     ]
    }
   ],
   "source": [
    "import json\n",
    "import pandas as pd\n",
    "import great_expectations as ge\n",
    "\n",
    "\n",
    "ge_df = ge.from_pandas(df_hospital)\n",
    "\n",
    "# Validaciones\n",
    "results = {\n",
    "    \"columnas_esperadas\": ge_df.expect_table_columns_to_match_ordered_list(\n",
    "        column_list=[\"id_paciente\", \"nombre\", \"fecha_nacimiento\", \"edad\", \"sexo\", \"email\", \"telefono\", \"ciudad\"]\n",
    "    ),\n",
    "    \"id_unico\": ge_df.expect_column_values_to_be_unique(\"id_paciente\"),\n",
    "    \"edad_positiva\": ge_df.expect_column_values_to_be_between(\"edad\", min_value=0, max_value=120, mostly=1.0),\n",
    "    \"sexo_valido\": ge_df.expect_column_values_to_be_in_set(\"sexo\", [\"Male\", \"Female\", None]),\n",
    "    \"email_valido\": ge_df.expect_column_values_to_match_regex(\"email\", r\"^[^@\\s]+@[^@\\s]+\\.[^@\\s]+$\", mostly=0.9)\n",
    "}\n",
    "\n",
    "# Resumen de validaciones\n",
    "for test, result in results.items():\n",
    "    print(f\"{test}: {'PASA' if result.success else 'FALLA'}\")"
   ]
  },
  {
   "cell_type": "code",
   "execution_count": 18,
   "id": "c7f0fca9",
   "metadata": {},
   "outputs": [
    {
     "name": "stdout",
     "output_type": "stream",
     "text": [
      "      id_paciente         nombre fecha_nacimiento  edad    sexo  \\\n",
      "5000          500   Andrea Pérez       1975-02-13   NaN    Male   \n",
      "5001         1000  Carlos Torres       1996-06-21  29.0       F   \n",
      "5002         1500    María Gómez       1967-05-25  32.0  Female   \n",
      "5003         2000     Juan López       1987-02-23  38.0  Female   \n",
      "5004         2500  Claudia Gómez       1984-06-03  50.0       M   \n",
      "5005         3000   María Torres       1967-04-06  58.0    Male   \n",
      "5006         3500   Andrea Gómez       1983-03-24  10.0    None   \n",
      "5007         4000  Claudia López       1976-04-18  20.0  Female   \n",
      "5008         4500  Andrea Torres       1978-12-07   NaN       M   \n",
      "5009         5000  Claudia Gómez       1966-03-17  47.0    Male   \n",
      "\n",
      "                     email      telefono        ciudad  \n",
      "5000   user500@example.com          None  Barranquilla  \n",
      "5001                  None  329-826-5655      Medellín  \n",
      "5002  user1500@example.com          None   Bucaramanga  \n",
      "5003  user2000@example.com  352-161-8992          Cali  \n",
      "5004  user2500@example.com    3163824755          None  \n",
      "5005  user3000@example.com    3160989102          Cali  \n",
      "5006                  None  338-569-7238        Bogotá  \n",
      "5007                  None          None          Cali  \n",
      "5008  user4500@example.com    3140055186  Barranquilla  \n",
      "5009  user5000@example.com          None          Cali  \n"
     ]
    }
   ],
   "source": [
    "duplicados = df_hospital[df_hospital.duplicated()]\n",
    "print(duplicados)"
   ]
  },
  {
   "cell_type": "markdown",
   "id": "10e40fad",
   "metadata": {},
   "source": [
    "### ID cliente"
   ]
  },
  {
   "cell_type": "code",
   "execution_count": 19,
   "id": "d9cc6a62",
   "metadata": {},
   "outputs": [
    {
     "name": "stdout",
     "output_type": "stream",
     "text": [
      "id_padciente faltantes: 0\n"
     ]
    }
   ],
   "source": [
    "#valores faltantes\n",
    "print(\"id_padciente faltantes:\", df_hospital['id_paciente'].isnull().sum())"
   ]
  },
  {
   "cell_type": "code",
   "execution_count": 20,
   "id": "f86c065e",
   "metadata": {},
   "outputs": [
    {
     "data": {
      "text/plain": [
       "id_paciente\n",
       "5000    2\n",
       "2500    2\n",
       "1000    2\n",
       "3500    2\n",
       "3000    2\n",
       "       ..\n",
       "1668    1\n",
       "1667    1\n",
       "1666    1\n",
       "1665    1\n",
       "2501    1\n",
       "Name: count, Length: 5000, dtype: int64"
      ]
     },
     "execution_count": 20,
     "metadata": {},
     "output_type": "execute_result"
    }
   ],
   "source": [
    "#valores duplicados\n",
    "df_hospital['id_paciente'].value_counts()"
   ]
  },
  {
   "cell_type": "code",
   "execution_count": 21,
   "id": "6d2a69fb",
   "metadata": {},
   "outputs": [
    {
     "name": "stdout",
     "output_type": "stream",
     "text": [
      "0\n"
     ]
    }
   ],
   "source": [
    "#Valores vacios\n",
    "print((df_hospital['id_paciente'] == '').sum())"
   ]
  },
  {
   "cell_type": "code",
   "execution_count": 22,
   "id": "77af89db",
   "metadata": {},
   "outputs": [
    {
     "name": "stdout",
     "output_type": "stream",
     "text": [
      "\n",
      "Duplicados por id_paciente:\n",
      "      id_paciente         nombre fecha_nacimiento  edad    sexo  \\\n",
      "499           500   Andrea Pérez       1975-02-13   NaN    Male   \n",
      "999          1000  Carlos Torres       1996-06-21  29.0       F   \n",
      "1499         1500    María Gómez       1967-05-25  32.0  Female   \n",
      "1999         2000     Juan López       1987-02-23  38.0  Female   \n",
      "2499         2500  Claudia Gómez       1984-06-03  50.0       M   \n",
      "2999         3000   María Torres       1967-04-06  58.0    Male   \n",
      "3499         3500   Andrea Gómez       1983-03-24  10.0    None   \n",
      "3999         4000  Claudia López       1976-04-18  20.0  Female   \n",
      "4499         4500  Andrea Torres       1978-12-07   NaN       M   \n",
      "4999         5000  Claudia Gómez       1966-03-17  47.0    Male   \n",
      "5000          500   Andrea Pérez       1975-02-13   NaN    Male   \n",
      "5001         1000  Carlos Torres       1996-06-21  29.0       F   \n",
      "5002         1500    María Gómez       1967-05-25  32.0  Female   \n",
      "5003         2000     Juan López       1987-02-23  38.0  Female   \n",
      "5004         2500  Claudia Gómez       1984-06-03  50.0       M   \n",
      "5005         3000   María Torres       1967-04-06  58.0    Male   \n",
      "5006         3500   Andrea Gómez       1983-03-24  10.0    None   \n",
      "5007         4000  Claudia López       1976-04-18  20.0  Female   \n",
      "5008         4500  Andrea Torres       1978-12-07   NaN       M   \n",
      "5009         5000  Claudia Gómez       1966-03-17  47.0    Male   \n",
      "\n",
      "                     email      telefono        ciudad  \n",
      "499    user500@example.com          None  Barranquilla  \n",
      "999                   None  329-826-5655      Medellín  \n",
      "1499  user1500@example.com          None   Bucaramanga  \n",
      "1999  user2000@example.com  352-161-8992          Cali  \n",
      "2499  user2500@example.com    3163824755          None  \n",
      "2999  user3000@example.com    3160989102          Cali  \n",
      "3499                  None  338-569-7238        Bogotá  \n",
      "3999                  None          None          Cali  \n",
      "4499  user4500@example.com    3140055186  Barranquilla  \n",
      "4999  user5000@example.com          None          Cali  \n",
      "5000   user500@example.com          None  Barranquilla  \n",
      "5001                  None  329-826-5655      Medellín  \n",
      "5002  user1500@example.com          None   Bucaramanga  \n",
      "5003  user2000@example.com  352-161-8992          Cali  \n",
      "5004  user2500@example.com    3163824755          None  \n",
      "5005  user3000@example.com    3160989102          Cali  \n",
      "5006                  None  338-569-7238        Bogotá  \n",
      "5007                  None          None          Cali  \n",
      "5008  user4500@example.com    3140055186  Barranquilla  \n",
      "5009  user5000@example.com          None          Cali  \n"
     ]
    }
   ],
   "source": [
    "# Mismo ID paciente (Unique)\n",
    "print(\"\\nDuplicados por id_paciente:\")\n",
    "print(df_hospital[df_hospital.duplicated(subset='id_paciente', keep=False)])"
   ]
  },
  {
   "cell_type": "markdown",
   "id": "020b84c1",
   "metadata": {},
   "source": [
    "### Nombre"
   ]
  },
  {
   "cell_type": "code",
   "execution_count": 23,
   "id": "f5ef3ecc",
   "metadata": {},
   "outputs": [
    {
     "name": "stdout",
     "output_type": "stream",
     "text": [
      "Nombre faltantes: 0\n"
     ]
    }
   ],
   "source": [
    "#valores faltantes\n",
    "print(\"Nombre faltantes:\", df_hospital['nombre'].isnull().sum())"
   ]
  },
  {
   "cell_type": "code",
   "execution_count": 24,
   "id": "9643364e",
   "metadata": {},
   "outputs": [
    {
     "data": {
      "text/plain": [
       "nombre\n",
       "Juan Gómez        224\n",
       "Andrea Pérez      224\n",
       "Claudia López     216\n",
       "María Torres      216\n",
       "Andrea Gómez      213\n",
       "Carlos Rojas      212\n",
       "Carlos Torres     211\n",
       "Andrea López      207\n",
       "Carlos Pérez      206\n",
       "Claudia Gómez     205\n",
       "María Gómez       203\n",
       "Juan Torres       203\n",
       "María López       201\n",
       "Juan Rojas        200\n",
       "Andrea Torres     198\n",
       "María Rojas       195\n",
       "Claudia Rojas     194\n",
       "Juan López        192\n",
       "Carlos Gómez      190\n",
       "Claudia Pérez     190\n",
       "Juan Pérez        187\n",
       "Andrea Rojas      184\n",
       "María Pérez       183\n",
       "Carlos López      178\n",
       "Claudia Torres    178\n",
       "Name: count, dtype: int64"
      ]
     },
     "execution_count": 24,
     "metadata": {},
     "output_type": "execute_result"
    }
   ],
   "source": [
    "#valores duplicados\n",
    "df_hospital['nombre'].value_counts()"
   ]
  },
  {
   "cell_type": "code",
   "execution_count": 25,
   "id": "77294d00",
   "metadata": {},
   "outputs": [
    {
     "name": "stdout",
     "output_type": "stream",
     "text": [
      "0\n"
     ]
    }
   ],
   "source": [
    "#Valores vacios\n",
    "print((df_hospital['nombre'] == '').sum()) "
   ]
  },
  {
   "cell_type": "markdown",
   "id": "b3ef084e",
   "metadata": {},
   "source": [
    "### Fecha_nacimiento"
   ]
  },
  {
   "cell_type": "code",
   "execution_count": 26,
   "id": "556c4172",
   "metadata": {},
   "outputs": [
    {
     "name": "stdout",
     "output_type": "stream",
     "text": [
      "Fecha_nacimiento faltantes: 0\n"
     ]
    }
   ],
   "source": [
    "#valores faltantes\n",
    "print(\"Fecha_nacimiento faltantes:\", df_hospital['fecha_nacimiento'].isnull().sum())"
   ]
  },
  {
   "cell_type": "code",
   "execution_count": 27,
   "id": "a0febb81",
   "metadata": {},
   "outputs": [
    {
     "data": {
      "text/plain": [
       "fecha_nacimiento\n",
       "1951-04-23    4\n",
       "1992-08-24    4\n",
       "1973-06-30    3\n",
       "2005-10-06    3\n",
       "1973-01-29    3\n",
       "             ..\n",
       "1962-01-05    1\n",
       "1987-07-19    1\n",
       "1950-05-21    1\n",
       "1993-08-09    1\n",
       "1994-02-23    1\n",
       "Name: count, Length: 4504, dtype: int64"
      ]
     },
     "execution_count": 27,
     "metadata": {},
     "output_type": "execute_result"
    }
   ],
   "source": [
    "#valores duplicados\n",
    "df_hospital['fecha_nacimiento'].value_counts()"
   ]
  },
  {
   "cell_type": "code",
   "execution_count": 28,
   "id": "a10f5e7c",
   "metadata": {},
   "outputs": [
    {
     "name": "stdout",
     "output_type": "stream",
     "text": [
      "0\n"
     ]
    }
   ],
   "source": [
    "#Valores vacios\n",
    "print((df_hospital['fecha_nacimiento'] == '').sum())"
   ]
  },
  {
   "cell_type": "code",
   "execution_count": 29,
   "id": "e439b823",
   "metadata": {},
   "outputs": [],
   "source": [
    "#Formato fechas incorrectas\n",
    "df_hospital['fecha_nacimiento_invalidas'] = pd.to_datetime(df_hospital['fecha_nacimiento'], errors='coerce')"
   ]
  },
  {
   "cell_type": "code",
   "execution_count": 30,
   "id": "9119c1dc",
   "metadata": {},
   "outputs": [
    {
     "name": "stdout",
     "output_type": "stream",
     "text": [
      "Registros con fecha de nacimiento inválida:\n",
      "    id_paciente         nombre         fecha_nacimiento  \\\n",
      "56           57   Andrea López        02 de nov de 1977   \n",
      "64           65   Carlos Pérez        22 de oct de 2002   \n",
      "84           85    Juan Torres               1959-06-33   \n",
      "94           95  Claudia Pérez  14 de diciembre de 2007   \n",
      "\n",
      "   fecha_nacimiento_invalidas  \n",
      "56                        NaT  \n",
      "64                        NaT  \n",
      "84                        NaT  \n",
      "94                        NaT  \n"
     ]
    }
   ],
   "source": [
    "fechas_invalidas = df_hospital[df_hospital['fecha_nacimiento_invalidas'].isna()]\n",
    "print(\"Registros con fecha de nacimiento inválida:\")\n",
    "print(fechas_invalidas[['id_paciente', 'nombre', 'fecha_nacimiento', 'fecha_nacimiento_invalidas']])\n"
   ]
  },
  {
   "cell_type": "code",
   "execution_count": 31,
   "id": "e8a61087",
   "metadata": {},
   "outputs": [],
   "source": [
    "df_hospital['fecha_nacimiento_parseada'] = pd.to_datetime(df_hospital['fecha_nacimiento'], errors='coerce')"
   ]
  },
  {
   "cell_type": "markdown",
   "id": "f513075f",
   "metadata": {},
   "source": [
    "### Edad"
   ]
  },
  {
   "cell_type": "code",
   "execution_count": 32,
   "id": "45b06226",
   "metadata": {},
   "outputs": [
    {
     "name": "stdout",
     "output_type": "stream",
     "text": [
      "Edad faltantes: 1647\n"
     ]
    }
   ],
   "source": [
    "#valores faltantes\n",
    "print(\"Edad faltantes:\", df_hospital['edad'].isnull().sum())"
   ]
  },
  {
   "cell_type": "code",
   "execution_count": 33,
   "id": "8a6a9db4",
   "metadata": {},
   "outputs": [
    {
     "name": "stdout",
     "output_type": "stream",
     "text": [
      "0\n"
     ]
    }
   ],
   "source": [
    "#Valores vacios\n",
    "print((df_hospital['edad'] == '').sum())"
   ]
  },
  {
   "cell_type": "code",
   "execution_count": 34,
   "id": "138abe28",
   "metadata": {},
   "outputs": [
    {
     "name": "stdout",
     "output_type": "stream",
     "text": [
      "count    3363.000000\n",
      "mean       47.858460\n",
      "std        20.793699\n",
      "min        10.000000\n",
      "25%        30.000000\n",
      "50%        48.000000\n",
      "75%        64.000000\n",
      "max        90.000000\n",
      "Name: edad, dtype: float64\n"
     ]
    }
   ],
   "source": [
    "# Ver estadísticas básicas\n",
    "print(df_hospital['edad'].describe())\n"
   ]
  },
  {
   "cell_type": "code",
   "execution_count": 35,
   "id": "4808f39d",
   "metadata": {},
   "outputs": [
    {
     "name": "stdout",
     "output_type": "stream",
     "text": [
      "\n",
      "Filas con edad inválida:\n"
     ]
    },
    {
     "data": {
      "text/plain": [
       "1647"
      ]
     },
     "execution_count": 35,
     "metadata": {},
     "output_type": "execute_result"
    }
   ],
   "source": [
    "# Filas con edades negativas o demasiado altas (> 120 años)\n",
    "\n",
    "df_hospital['edad_invalida'] = (\n",
    "    df_hospital['edad'].isnull() |   \n",
    "    (df_hospital['edad'] < 0) |            \n",
    "    (df_hospital['edad'] > 120)        \n",
    ")\n",
    "print(\"\\nFilas con edad inválida:\")\n",
    "df_hospital['edad_invalida'].sum()"
   ]
  },
  {
   "cell_type": "markdown",
   "id": "e0c47c02",
   "metadata": {},
   "source": [
    "### Sexo"
   ]
  },
  {
   "cell_type": "code",
   "execution_count": 36,
   "id": "d81bb335",
   "metadata": {},
   "outputs": [
    {
     "name": "stdout",
     "output_type": "stream",
     "text": [
      "Sexo faltantes: 1023\n"
     ]
    }
   ],
   "source": [
    "#valores faltantes\n",
    "print(\"Sexo faltantes:\", df_hospital['sexo'].isnull().sum())"
   ]
  },
  {
   "cell_type": "code",
   "execution_count": 37,
   "id": "51ad5730",
   "metadata": {},
   "outputs": [
    {
     "data": {
      "text/plain": [
       "sexo\n",
       "Male      1049\n",
       "F         1004\n",
       "Female     972\n",
       "M          962\n",
       "Name: count, dtype: int64"
      ]
     },
     "execution_count": 37,
     "metadata": {},
     "output_type": "execute_result"
    }
   ],
   "source": [
    "#valores duplicados\n",
    "df_hospital['sexo'].value_counts()"
   ]
  },
  {
   "cell_type": "code",
   "execution_count": 38,
   "id": "27281148",
   "metadata": {},
   "outputs": [
    {
     "name": "stdout",
     "output_type": "stream",
     "text": [
      "0\n"
     ]
    }
   ],
   "source": [
    "#Valores vacios\n",
    "print((df_hospital['sexo'] == '').sum())"
   ]
  },
  {
   "cell_type": "code",
   "execution_count": 39,
   "id": "ff6a27be",
   "metadata": {},
   "outputs": [
    {
     "name": "stdout",
     "output_type": "stream",
     "text": [
      "\n",
      "Filas con sexo inválida:\n"
     ]
    },
    {
     "data": {
      "text/plain": [
       "1966"
      ]
     },
     "execution_count": 39,
     "metadata": {},
     "output_type": "execute_result"
    }
   ],
   "source": [
    "valores_validos = ['Male', 'Female']\n",
    "df_hospital['sexo_invalido'] = ~df_hospital['sexo'].isin(valores_validos) & df_hospital['sexo'].notnull()\n",
    "\n",
    "print(\"\\nFilas con sexo inválida:\")\n",
    "df_hospital['sexo_invalido'].sum()"
   ]
  },
  {
   "cell_type": "code",
   "execution_count": 40,
   "id": "7f4fbd02",
   "metadata": {},
   "outputs": [
    {
     "name": "stdout",
     "output_type": "stream",
     "text": [
      "Registros con sexo inválido:\n",
      "      id_paciente         nombre fecha_nacimiento  edad sexo  \\\n",
      "3               4   Andrea López       1951-11-18  47.0    F   \n",
      "7               8   Andrea López       2004-02-12  21.0    M   \n",
      "8               9   María Torres       1974-02-04  47.0    F   \n",
      "9              10     Juan López       1961-04-28   NaN    M   \n",
      "10             11    María López       1961-06-15  23.0    F   \n",
      "...           ...            ...              ...   ...  ...   \n",
      "4995         4996  Andrea Torres       1993-03-08   NaN    F   \n",
      "4996         4997  Carlos Torres       1960-12-16  20.0    M   \n",
      "5001         1000  Carlos Torres       1996-06-21  29.0    F   \n",
      "5004         2500  Claudia Gómez       1984-06-03  50.0    M   \n",
      "5008         4500  Andrea Torres       1978-12-07   NaN    M   \n",
      "\n",
      "                     email      telefono        ciudad  \\\n",
      "3        user4@example.com          None  Barranquilla   \n",
      "7        user8@example.com    3173897017      Medellín   \n",
      "8        user9@example.com  389-624-9971  Barranquilla   \n",
      "9                     None  346-103-1820      Medellín   \n",
      "10      user11@example.com    3171531314   Bucaramanga   \n",
      "...                    ...           ...           ...   \n",
      "4995  user4996@example.com          None          Cali   \n",
      "4996  user4997@example.com  351-595-8301  Barranquilla   \n",
      "5001                  None  329-826-5655      Medellín   \n",
      "5004  user2500@example.com    3163824755          None   \n",
      "5008  user4500@example.com    3140055186  Barranquilla   \n",
      "\n",
      "     fecha_nacimiento_invalidas fecha_nacimiento_parseada  edad_invalida  \\\n",
      "3                    1951-11-18                1951-11-18          False   \n",
      "7                    2004-02-12                2004-02-12          False   \n",
      "8                    1974-02-04                1974-02-04          False   \n",
      "9                    1961-04-28                1961-04-28           True   \n",
      "10                   1961-06-15                1961-06-15          False   \n",
      "...                         ...                       ...            ...   \n",
      "4995                 1993-03-08                1993-03-08           True   \n",
      "4996                 1960-12-16                1960-12-16          False   \n",
      "5001                 1996-06-21                1996-06-21          False   \n",
      "5004                 1984-06-03                1984-06-03          False   \n",
      "5008                 1978-12-07                1978-12-07           True   \n",
      "\n",
      "      sexo_invalido  \n",
      "3              True  \n",
      "7              True  \n",
      "8              True  \n",
      "9              True  \n",
      "10             True  \n",
      "...             ...  \n",
      "4995           True  \n",
      "4996           True  \n",
      "5001           True  \n",
      "5004           True  \n",
      "5008           True  \n",
      "\n",
      "[1966 rows x 12 columns]\n"
     ]
    }
   ],
   "source": [
    "print(\"Registros con sexo inválido:\")\n",
    "print(df_hospital[df_hospital['sexo_invalido']])\n"
   ]
  },
  {
   "cell_type": "markdown",
   "id": "48f09854",
   "metadata": {},
   "source": [
    "### email"
   ]
  },
  {
   "cell_type": "code",
   "execution_count": 41,
   "id": "33239332",
   "metadata": {},
   "outputs": [
    {
     "name": "stdout",
     "output_type": "stream",
     "text": [
      "Correos faltantes: 2506\n"
     ]
    }
   ],
   "source": [
    "#valores faltantes\n",
    "print(\"Correos faltantes:\", df_hospital['email'].isnull().sum())"
   ]
  },
  {
   "cell_type": "code",
   "execution_count": 42,
   "id": "650c9161",
   "metadata": {},
   "outputs": [
    {
     "name": "stdout",
     "output_type": "stream",
     "text": [
      "Correos vacíos o solo espacios: 0\n"
     ]
    }
   ],
   "source": [
    "#valores vacios\n",
    "print(\"Correos vacíos o solo espacios:\", (df_hospital['email'].str.strip() == '').sum())"
   ]
  },
  {
   "cell_type": "code",
   "execution_count": 43,
   "id": "4aee90a4",
   "metadata": {},
   "outputs": [
    {
     "name": "stdout",
     "output_type": "stream",
     "text": [
      "\n",
      "Dominios más comunes:\n",
      "dominio\n",
      "example.com    2504\n",
      "Name: count, dtype: int64\n"
     ]
    }
   ],
   "source": [
    "#Dominios más comunes de correo\n",
    "df_hospital['dominio'] = df_hospital['email'].str.extract(r'@(.+)$')\n",
    "print(\"\\nDominios más comunes:\")\n",
    "print(df_hospital['dominio'].value_counts().head(10))"
   ]
  },
  {
   "cell_type": "code",
   "execution_count": 44,
   "id": "b88e0d35",
   "metadata": {},
   "outputs": [
    {
     "name": "stdout",
     "output_type": "stream",
     "text": [
      " Emails faltantes: 2506\n",
      " Emails vacíos: 0\n",
      "\n",
      "Emails con formato inválido:\n",
      "Empty DataFrame\n",
      "Columns: [id_paciente, nombre, fecha_nacimiento, edad, sexo, email, telefono, ciudad, fecha_nacimiento_invalidas, fecha_nacimiento_parseada, edad_invalida, sexo_invalido, dominio, email_valido]\n",
      "Index: []\n",
      "\n",
      "Dominios más comunes:\n",
      "dominio\n",
      "example.com    2504\n",
      "Name: count, dtype: int64\n",
      "\n",
      "Emails duplicados:\n",
      "      id_paciente         nombre fecha_nacimiento  edad    sexo  \\\n",
      "499           500   Andrea Pérez       1975-02-13   NaN    Male   \n",
      "1499         1500    María Gómez       1967-05-25  32.0  Female   \n",
      "1999         2000     Juan López       1987-02-23  38.0  Female   \n",
      "2499         2500  Claudia Gómez       1984-06-03  50.0       M   \n",
      "2999         3000   María Torres       1967-04-06  58.0    Male   \n",
      "4499         4500  Andrea Torres       1978-12-07   NaN       M   \n",
      "4999         5000  Claudia Gómez       1966-03-17  47.0    Male   \n",
      "5000          500   Andrea Pérez       1975-02-13   NaN    Male   \n",
      "5002         1500    María Gómez       1967-05-25  32.0  Female   \n",
      "5003         2000     Juan López       1987-02-23  38.0  Female   \n",
      "5004         2500  Claudia Gómez       1984-06-03  50.0       M   \n",
      "5005         3000   María Torres       1967-04-06  58.0    Male   \n",
      "5008         4500  Andrea Torres       1978-12-07   NaN       M   \n",
      "5009         5000  Claudia Gómez       1966-03-17  47.0    Male   \n",
      "\n",
      "                     email      telefono        ciudad  \\\n",
      "499    user500@example.com          None  Barranquilla   \n",
      "1499  user1500@example.com          None   Bucaramanga   \n",
      "1999  user2000@example.com  352-161-8992          Cali   \n",
      "2499  user2500@example.com    3163824755          None   \n",
      "2999  user3000@example.com    3160989102          Cali   \n",
      "4499  user4500@example.com    3140055186  Barranquilla   \n",
      "4999  user5000@example.com          None          Cali   \n",
      "5000   user500@example.com          None  Barranquilla   \n",
      "5002  user1500@example.com          None   Bucaramanga   \n",
      "5003  user2000@example.com  352-161-8992          Cali   \n",
      "5004  user2500@example.com    3163824755          None   \n",
      "5005  user3000@example.com    3160989102          Cali   \n",
      "5008  user4500@example.com    3140055186  Barranquilla   \n",
      "5009  user5000@example.com          None          Cali   \n",
      "\n",
      "     fecha_nacimiento_invalidas fecha_nacimiento_parseada  edad_invalida  \\\n",
      "499                  1975-02-13                1975-02-13           True   \n",
      "1499                 1967-05-25                1967-05-25          False   \n",
      "1999                 1987-02-23                1987-02-23          False   \n",
      "2499                 1984-06-03                1984-06-03          False   \n",
      "2999                 1967-04-06                1967-04-06          False   \n",
      "4499                 1978-12-07                1978-12-07           True   \n",
      "4999                 1966-03-17                1966-03-17          False   \n",
      "5000                 1975-02-13                1975-02-13           True   \n",
      "5002                 1967-05-25                1967-05-25          False   \n",
      "5003                 1987-02-23                1987-02-23          False   \n",
      "5004                 1984-06-03                1984-06-03          False   \n",
      "5005                 1967-04-06                1967-04-06          False   \n",
      "5008                 1978-12-07                1978-12-07           True   \n",
      "5009                 1966-03-17                1966-03-17          False   \n",
      "\n",
      "      sexo_invalido      dominio  email_valido  \n",
      "499           False  example.com          True  \n",
      "1499          False  example.com          True  \n",
      "1999          False  example.com          True  \n",
      "2499           True  example.com          True  \n",
      "2999          False  example.com          True  \n",
      "4499           True  example.com          True  \n",
      "4999          False  example.com          True  \n",
      "5000          False  example.com          True  \n",
      "5002          False  example.com          True  \n",
      "5003          False  example.com          True  \n",
      "5004           True  example.com          True  \n",
      "5005          False  example.com          True  \n",
      "5008           True  example.com          True  \n",
      "5009          False  example.com          True  \n"
     ]
    }
   ],
   "source": [
    "#Función para evaluar calidad de email\n",
    "\n",
    "def evaluar_calidad_email(df):\n",
    "    print(\" Emails faltantes:\", df['email'].isnull().sum())\n",
    "    print(\" Emails vacíos:\", (df['email'].str.strip() == '').sum())\n",
    "\n",
    "    regex_email = r'^[\\w\\.-]+@[\\w\\.-]+\\.\\w+$'\n",
    "    df['email_valido'] = df['email'].str.match(regex_email, na=False)\n",
    "    print(\"\\nEmails con formato inválido:\")\n",
    "    print(df[~df['email_valido'] & df['email'].notnull()])\n",
    "\n",
    "    df['dominio'] = df['email'].str.extract(r'@(.+)$')\n",
    "    print(\"\\nDominios más comunes:\")\n",
    "    print(df['dominio'].value_counts().head(10))\n",
    "\n",
    "    duplicados = df[df.duplicated(subset='email', keep=False) & df['email'].notnull()]\n",
    "    print(\"\\nEmails duplicados:\")\n",
    "    print(duplicados)\n",
    "\n",
    "\n",
    "evaluar_calidad_email(df_hospital)\n"
   ]
  },
  {
   "cell_type": "markdown",
   "id": "b330db32",
   "metadata": {},
   "source": [
    "### Telefono"
   ]
  },
  {
   "cell_type": "code",
   "execution_count": 45,
   "id": "113f181e",
   "metadata": {},
   "outputs": [
    {
     "name": "stdout",
     "output_type": "stream",
     "text": [
      "telefonos faltantes: 1668\n"
     ]
    }
   ],
   "source": [
    "#valores faltantes\n",
    "print(\"telefonos faltantes:\", df_hospital['telefono'].isnull().sum())"
   ]
  },
  {
   "cell_type": "code",
   "execution_count": 46,
   "id": "887c64a8",
   "metadata": {},
   "outputs": [
    {
     "name": "stdout",
     "output_type": "stream",
     "text": [
      "0\n"
     ]
    }
   ],
   "source": [
    "#Valores vacios\n",
    "print((df_hospital['telefono'] == '').sum())"
   ]
  },
  {
   "cell_type": "code",
   "execution_count": 47,
   "id": "1ced4682",
   "metadata": {},
   "outputs": [
    {
     "name": "stdout",
     "output_type": "stream",
     "text": [
      "Teléfonos inválidos: 0\n",
      "Empty DataFrame\n",
      "Columns: [id_paciente, nombre, telefono]\n",
      "Index: []\n"
     ]
    }
   ],
   "source": [
    "# Extraer solo dígitos\n",
    "telefono_digitos = df_hospital['telefono'].str.replace(r'\\D', '', regex=True)\n",
    "\n",
    "# Validar si tienen entre 7 y 10 dígitos\n",
    "telefonos_validos = telefono_digitos.str.match(r'^\\d{7,10}$').fillna(False)\n",
    "\n",
    "\n",
    "df_hospital['telefono_invalido'] = (~telefonos_validos) & df_hospital['telefono'].notnull() & (df_hospital['telefono'].str.strip() != '')\n",
    "\n",
    "# Contar cuántos son inválidos\n",
    "conteo_invalidos = df_hospital['telefono_invalido'] .sum()\n",
    "print(f\"Teléfonos inválidos: {conteo_invalidos}\")\n",
    "\n",
    "\n",
    "print(df_hospital[df_hospital['telefono_invalido']][['id_paciente', 'nombre', 'telefono']])\n",
    "\n"
   ]
  },
  {
   "cell_type": "markdown",
   "id": "6727e610",
   "metadata": {},
   "source": [
    "### Ciudad"
   ]
  },
  {
   "cell_type": "code",
   "execution_count": 48,
   "id": "41cdca78",
   "metadata": {},
   "outputs": [
    {
     "name": "stdout",
     "output_type": "stream",
     "text": [
      "ciudades faltantes: 827\n"
     ]
    }
   ],
   "source": [
    "#valores faltantes\n",
    "print(\"ciudades faltantes:\", df_hospital['ciudad'].isnull().sum())"
   ]
  },
  {
   "cell_type": "code",
   "execution_count": 49,
   "id": "b2d76da3",
   "metadata": {},
   "outputs": [
    {
     "name": "stdout",
     "output_type": "stream",
     "text": [
      "0\n"
     ]
    }
   ],
   "source": [
    "#Valores vacios\n",
    "print((df_hospital['ciudad'] == '').sum())"
   ]
  },
  {
   "cell_type": "code",
   "execution_count": 50,
   "id": "faa3dc03",
   "metadata": {},
   "outputs": [
    {
     "data": {
      "text/plain": [
       "ciudad\n",
       "Cali            861\n",
       "Bogotá          856\n",
       "Bucaramanga     847\n",
       "Medellín        812\n",
       "Barranquilla    807\n",
       "Name: count, dtype: int64"
      ]
     },
     "execution_count": 50,
     "metadata": {},
     "output_type": "execute_result"
    }
   ],
   "source": [
    "#valores duplicados\n",
    "df_hospital['ciudad'].value_counts()"
   ]
  },
  {
   "cell_type": "code",
   "execution_count": 51,
   "id": "638052d0",
   "metadata": {},
   "outputs": [
    {
     "name": "stdout",
     "output_type": "stream",
     "text": [
      "Valores únicos en 'ciudad':\n",
      "['Barranquilla' 'Cali' 'Bucaramanga' 'Bogotá' 'Medellín' None]\n"
     ]
    }
   ],
   "source": [
    "#Nombres de ciudades\n",
    "print(\"Valores únicos en 'ciudad':\")\n",
    "print(df_hospital['ciudad'].unique())"
   ]
  },
  {
   "cell_type": "code",
   "execution_count": 52,
   "id": "ab78399f",
   "metadata": {},
   "outputs": [
    {
     "name": "stdout",
     "output_type": "stream",
     "text": [
      "\n",
      "Filas con ciudades inválidas:\n",
      "Empty DataFrame\n",
      "Columns: [id_paciente, nombre, fecha_nacimiento, edad, sexo, email, telefono, ciudad, fecha_nacimiento_invalidas, fecha_nacimiento_parseada, edad_invalida, sexo_invalido, dominio, email_valido, telefono_invalido]\n",
      "Index: []\n"
     ]
    }
   ],
   "source": [
    "ciudades_validas = ['Bogotá', 'Medellín', 'Cali', 'Barranquilla', 'Bucaramanga']\n",
    "\n",
    "df_ciudades_invalidas = df_hospital[~df_hospital['ciudad'].isin(ciudades_validas) & df_hospital['ciudad'].notnull()]\n",
    "print(\"\\nFilas con ciudades inválidas:\")\n",
    "print(df_ciudades_invalidas)\n"
   ]
  },
  {
   "cell_type": "code",
   "execution_count": 53,
   "id": "23966fc2",
   "metadata": {},
   "outputs": [
    {
     "name": "stdout",
     "output_type": "stream",
     "text": [
      "\n",
      "Filas con ciudades inválidas:\n",
      "0\n"
     ]
    }
   ],
   "source": [
    "# Crear la columna booleana que marca si la ciudad es inválida\n",
    "df_hospital['ciudad_invalida'] = ~df_hospital['ciudad'].isin(ciudades_validas) & df_hospital['ciudad'].notnull()\n",
    "\n",
    "# Mostrar cuántas hay\n",
    "print(\"\\nFilas con ciudades inválidas:\")\n",
    "print(df_hospital['ciudad_invalida'].sum())\n"
   ]
  },
  {
   "cell_type": "code",
   "execution_count": 54,
   "id": "396afacb",
   "metadata": {},
   "outputs": [],
   "source": [
    "df_hospital['ciudad_valida'] = df_hospital['ciudad'].isin(ciudades_validas)\n"
   ]
  },
  {
   "cell_type": "markdown",
   "id": "757c9677",
   "metadata": {},
   "source": [
    "## Resumen calidad de datos"
   ]
  },
  {
   "cell_type": "code",
   "execution_count": 55,
   "id": "a2aeb67a",
   "metadata": {},
   "outputs": [
    {
     "name": "stdout",
     "output_type": "stream",
     "text": [
      "📋 RESUMEN DE PROBLEMAS DE CALIDAD DE DATOS\n",
      "------------------------------------------------\n",
      "Fechas de nacimiento inválidas: 4\n",
      "Registros con edad inválida: 1647\n",
      "Registros con sexo inválido: 1966\n",
      "Registros con telefono inválido: 0\n",
      "Registros con ciudad inválido: 0\n",
      "\n",
      "Valores faltantes por campo:\n",
      "id_paciente            0\n",
      "nombre                 0\n",
      "fecha_nacimiento       0\n",
      "edad                1647\n",
      "sexo                1023\n",
      "email               2506\n",
      "telefono            1668\n",
      "ciudad               827\n",
      "dtype: int64\n"
     ]
    }
   ],
   "source": [
    "faltantes = df_hospital[['id_paciente', 'nombre', 'fecha_nacimiento', 'edad', 'sexo', 'email','telefono', 'ciudad']].isnull().sum()\n",
    "print(\"📋 RESUMEN DE PROBLEMAS DE CALIDAD DE DATOS\")\n",
    "print(\"------------------------------------------------\")\n",
    "print(f\"Fechas de nacimiento inválidas: {df_hospital['fecha_nacimiento_parseada'].isna().sum()}\")\n",
    "print(f\"Registros con edad inválida: {df_hospital['edad_invalida'].sum()}\")\n",
    "print(f\"Registros con sexo inválido: {df_hospital['sexo_invalido'].sum()}\")\n",
    "print(f\"Registros con telefono inválido: {df_hospital['telefono_invalido'].sum()}\")\n",
    "print(f\"Registros con ciudad inválido: {df_hospital['ciudad_invalida'].sum()}\")\n",
    "print(\"\\nValores faltantes por campo:\")\n",
    "print(faltantes)\n"
   ]
  },
  {
   "cell_type": "code",
   "execution_count": null,
   "id": "a22371d6-3626-4bcc-b9b7-1416224329dc",
   "metadata": {},
   "outputs": [],
   "source": []
  },
  {
   "cell_type": "code",
   "execution_count": 56,
   "id": "9e591c56",
   "metadata": {},
   "outputs": [
    {
     "name": "stdout",
     "output_type": "stream",
     "text": [
      "\n",
      "EJEMPLOS DE REGISTROS CON ERRORES:\n",
      "    id_paciente          nombre fecha_nacimiento fecha_nacimiento_parseada  \\\n",
      "0             1  Claudia Torres       1954-01-08                1954-01-08   \n",
      "1             2    Carlos Gómez       1965-01-01                1965-01-01   \n",
      "2             3    Carlos Gómez       2009-03-08                2009-03-08   \n",
      "3             4    Andrea López       1951-11-18                1951-11-18   \n",
      "4             5      Juan Gómez       1961-09-05                1961-09-05   \n",
      "5             6     María López       1966-10-26                1966-10-26   \n",
      "6             7    María Torres       1954-03-16                1954-03-16   \n",
      "7             8    Andrea López       2004-02-12                2004-02-12   \n",
      "8             9    María Torres       1974-02-04                1974-02-04   \n",
      "9            10      Juan López       1961-04-28                1961-04-28   \n",
      "10           11     María López       1961-06-15                1961-06-15   \n",
      "12           13      Juan Rojas       2009-10-02                2009-10-02   \n",
      "13           14     María López       1982-02-07                1982-02-07   \n",
      "15           16   Carlos Torres       1969-09-18                1969-09-18   \n",
      "16           17    Carlos Pérez       1991-11-20                1991-11-20   \n",
      "17           18   Claudia López       1977-01-24                1977-01-24   \n",
      "18           19     María Pérez       1984-03-02                1984-03-02   \n",
      "20           21    Andrea Rojas       1959-02-02                1959-02-02   \n",
      "21           22      Juan Pérez       1977-03-29                1977-03-29   \n",
      "22           23    Andrea Pérez       2002-02-14                2002-02-14   \n",
      "\n",
      "    edad  edad_invalida    sexo  sexo_invalido               email  \\\n",
      "0    NaN           True  Female          False   user1@example.com   \n",
      "1   58.0          False  Female          False                None   \n",
      "2   16.0          False    None          False   user3@example.com   \n",
      "3   47.0          False       F           True   user4@example.com   \n",
      "4   81.0          False  Female          False   user5@example.com   \n",
      "5   59.0          False    Male          False   user6@example.com   \n",
      "6   72.0          False    None          False   user7@example.com   \n",
      "7   21.0          False       M           True   user8@example.com   \n",
      "8   47.0          False       F           True   user9@example.com   \n",
      "9    NaN           True       M           True                None   \n",
      "10  23.0          False       F           True  user11@example.com   \n",
      "12  56.0          False       F           True  user13@example.com   \n",
      "13  40.0          False       M           True  user14@example.com   \n",
      "15  56.0          False  Female          False  user16@example.com   \n",
      "16   NaN           True    Male          False  user17@example.com   \n",
      "17  66.0          False    None          False  user18@example.com   \n",
      "18  13.0          False  Female          False  user19@example.com   \n",
      "20   NaN           True    None          False  user21@example.com   \n",
      "21  34.0          False    None          False                None   \n",
      "22  23.0          False    None          False                None   \n",
      "\n",
      "        telefono  telefono_invalido        ciudad  ciudad_invalida  \n",
      "0   342-950-1064              False  Barranquilla            False  \n",
      "1           None              False          Cali            False  \n",
      "2     3157898999              False   Bucaramanga            False  \n",
      "3           None              False  Barranquilla            False  \n",
      "4           None              False   Bucaramanga            False  \n",
      "5           None              False        Bogotá            False  \n",
      "6   317-190-8509              False          Cali            False  \n",
      "7     3173897017              False      Medellín            False  \n",
      "8   389-624-9971              False  Barranquilla            False  \n",
      "9   346-103-1820              False      Medellín            False  \n",
      "10    3171531314              False   Bucaramanga            False  \n",
      "12  340-217-9714              False          None            False  \n",
      "13          None              False   Bucaramanga            False  \n",
      "15    3185972562              False          None            False  \n",
      "16  325-922-6919              False          Cali            False  \n",
      "17  304-274-2462              False          Cali            False  \n",
      "18  351-739-2233              False          None            False  \n",
      "20    3121591435              False      Medellín            False  \n",
      "21  306-319-7288              False   Bucaramanga            False  \n",
      "22  386-711-4218              False          None            False  \n"
     ]
    }
   ],
   "source": [
    "#Ejemplo de registros con errores\n",
    "\n",
    "errores = df_hospital[\n",
    "    (df_hospital['fecha_nacimiento_parseada'].isna()) |\n",
    "    (df_hospital['sexo_invalido']) |\n",
    "    (df_hospital[['edad', 'sexo', 'email', 'telefono', 'ciudad']].isnull().any(axis=1))]\n",
    "\n",
    "print(\"\\nEJEMPLOS DE REGISTROS CON ERRORES:\")\n",
    "print(errores[['id_paciente', 'nombre', 'fecha_nacimiento', 'fecha_nacimiento_parseada',\n",
    "               'edad', 'edad_invalida',\n",
    "               'sexo', 'sexo_invalido',\n",
    "               'email', 'telefono', 'telefono_invalido', 'ciudad','ciudad_invalida']].head(20))"
   ]
  },
  {
   "cell_type": "code",
   "execution_count": null,
   "id": "61aad5b3-7bf5-4e0e-91f6-28f1447b1dc6",
   "metadata": {},
   "outputs": [],
   "source": []
  },
  {
   "cell_type": "code",
   "execution_count": null,
   "id": "6689782c-af35-46cd-a1ae-5ec5e43bae3d",
   "metadata": {},
   "outputs": [],
   "source": []
  },
  {
   "cell_type": "code",
   "execution_count": null,
   "id": "d41ad8ef-b537-460e-858f-88107c3d7cd9",
   "metadata": {},
   "outputs": [],
   "source": []
  },
  {
   "cell_type": "markdown",
   "id": "cd292f56",
   "metadata": {},
   "source": [
    "# Limpieza y validación cruzada"
   ]
  },
  {
   "cell_type": "code",
   "execution_count": 57,
   "id": "7968b3bb",
   "metadata": {},
   "outputs": [],
   "source": [
    "#eliminar duplicados en el id_paciente dejando el ultimo\n",
    "df_hospital = df_hospital.drop_duplicates(subset='id_paciente', keep='last')"
   ]
  },
  {
   "cell_type": "code",
   "execution_count": 58,
   "id": "3bd84776",
   "metadata": {},
   "outputs": [
    {
     "name": "stdout",
     "output_type": "stream",
     "text": [
      "\n",
      "Duplicados por id_paciente:\n",
      "Empty DataFrame\n",
      "Columns: [id_paciente, nombre, fecha_nacimiento, edad, sexo, email, telefono, ciudad, fecha_nacimiento_invalidas, fecha_nacimiento_parseada, edad_invalida, sexo_invalido, dominio, email_valido, telefono_invalido, ciudad_invalida, ciudad_valida]\n",
      "Index: []\n"
     ]
    }
   ],
   "source": [
    "# Mismo ID paciente (Unique)\n",
    "print(\"\\nDuplicados por id_paciente:\")\n",
    "print(df_hospital[df_hospital.duplicated(subset='id_paciente', keep=False)])"
   ]
  },
  {
   "cell_type": "code",
   "execution_count": 59,
   "id": "aa803028",
   "metadata": {},
   "outputs": [
    {
     "data": {
      "text/html": [
       "<div>\n",
       "<style scoped>\n",
       "    .dataframe tbody tr th:only-of-type {\n",
       "        vertical-align: middle;\n",
       "    }\n",
       "\n",
       "    .dataframe tbody tr th {\n",
       "        vertical-align: top;\n",
       "    }\n",
       "\n",
       "    .dataframe thead th {\n",
       "        text-align: right;\n",
       "    }\n",
       "</style>\n",
       "<table border=\"1\" class=\"dataframe\">\n",
       "  <thead>\n",
       "    <tr style=\"text-align: right;\">\n",
       "      <th></th>\n",
       "      <th>id_paciente</th>\n",
       "      <th>nombre</th>\n",
       "      <th>fecha_nacimiento</th>\n",
       "      <th>edad</th>\n",
       "      <th>sexo</th>\n",
       "      <th>email</th>\n",
       "      <th>telefono</th>\n",
       "      <th>ciudad</th>\n",
       "      <th>fecha_nacimiento_invalidas</th>\n",
       "      <th>fecha_nacimiento_parseada</th>\n",
       "      <th>edad_invalida</th>\n",
       "      <th>sexo_invalido</th>\n",
       "      <th>dominio</th>\n",
       "      <th>email_valido</th>\n",
       "      <th>telefono_invalido</th>\n",
       "      <th>ciudad_invalida</th>\n",
       "      <th>ciudad_valida</th>\n",
       "    </tr>\n",
       "  </thead>\n",
       "  <tbody>\n",
       "    <tr>\n",
       "      <th>5000</th>\n",
       "      <td>500</td>\n",
       "      <td>Andrea Pérez</td>\n",
       "      <td>1975-02-13</td>\n",
       "      <td>NaN</td>\n",
       "      <td>Male</td>\n",
       "      <td>user500@example.com</td>\n",
       "      <td>None</td>\n",
       "      <td>Barranquilla</td>\n",
       "      <td>1975-02-13</td>\n",
       "      <td>1975-02-13</td>\n",
       "      <td>True</td>\n",
       "      <td>False</td>\n",
       "      <td>example.com</td>\n",
       "      <td>True</td>\n",
       "      <td>False</td>\n",
       "      <td>False</td>\n",
       "      <td>True</td>\n",
       "    </tr>\n",
       "  </tbody>\n",
       "</table>\n",
       "</div>"
      ],
      "text/plain": [
       "      id_paciente        nombre fecha_nacimiento  edad  sexo  \\\n",
       "5000          500  Andrea Pérez       1975-02-13   NaN  Male   \n",
       "\n",
       "                    email telefono        ciudad fecha_nacimiento_invalidas  \\\n",
       "5000  user500@example.com     None  Barranquilla                 1975-02-13   \n",
       "\n",
       "     fecha_nacimiento_parseada  edad_invalida  sexo_invalido      dominio  \\\n",
       "5000                1975-02-13           True          False  example.com   \n",
       "\n",
       "      email_valido  telefono_invalido  ciudad_invalida  ciudad_valida  \n",
       "5000          True              False            False           True  "
      ]
     },
     "execution_count": 59,
     "metadata": {},
     "output_type": "execute_result"
    }
   ],
   "source": [
    "df_hospital[df_hospital['id_paciente'] == 500]\n"
   ]
  },
  {
   "cell_type": "code",
   "execution_count": 60,
   "id": "5a46ef38",
   "metadata": {},
   "outputs": [],
   "source": [
    "df_hospital = df_hospital.copy()"
   ]
  },
  {
   "cell_type": "code",
   "execution_count": 61,
   "id": "486da16b",
   "metadata": {},
   "outputs": [],
   "source": [
    "\n",
    "df_hospital['fecha_nacimiento'] = df_hospital['fecha_nacimiento'].astype(str).str.strip()\n"
   ]
  },
  {
   "cell_type": "code",
   "execution_count": 62,
   "id": "c2731af5",
   "metadata": {},
   "outputs": [],
   "source": [
    "import pandas as pd\n",
    "import calendar\n",
    "import re\n",
    "\n",
    "def limpiar_y_corregir_fecha(fecha):\n",
    "    if pd.isna(fecha):\n",
    "        return pd.NaT\n",
    "\n",
    "    # Diccionario de traducción meses y otras palabras comunes en español\n",
    "    reemplazos = {\n",
    "        'enero': 'January', 'febrero': 'February', 'marzo': 'March',\n",
    "        'abril': 'April', 'mayo': 'May', 'junio': 'June',\n",
    "        'julio': 'July', 'agosto': 'August', 'septiembre': 'September',\n",
    "        'octubre': 'October', 'noviembre': 'November', 'diciembre': 'December',\n",
    "        'ene': 'January', 'feb': 'February', 'mar': 'March',\n",
    "        'abr': 'April', 'may': 'May', 'jun': 'June',\n",
    "        'jul': 'July', 'ago': 'August', 'sep': 'September',\n",
    "        'oct': 'October', 'nov': 'November', 'dic': 'December',\n",
    "        ' de ': ' ', 'de': '',  # Eliminar \"de\"\n",
    "    }\n",
    "\n",
    "    fecha_str = str(fecha).lower()\n",
    "    for esp, eng in reemplazos.items():\n",
    "        fecha_str = fecha_str.replace(esp, eng)\n",
    "    fecha_str = fecha_str.strip()\n",
    "\n",
    "    # Intentar convertir la fecha limpia\n",
    "    try:\n",
    "        fecha_dt = pd.to_datetime(fecha_str, dayfirst=True, errors='raise')\n",
    "        return fecha_dt\n",
    "    except:\n",
    "        # Si falla, intentar corregir fechas numéricas con día inválido, formato YYYY-MM-DD\n",
    "        m = re.match(r'(\\d{4})[-/](\\d{1,2})[-/](\\d{1,2})', fecha_str)\n",
    "        if m:\n",
    "            year, month, day = int(m.group(1)), int(m.group(2)), int(m.group(3))\n",
    "            last_day = calendar.monthrange(year, month)[1]\n",
    "            if day > last_day:\n",
    "                day = last_day\n",
    "            try:\n",
    "                return pd.Timestamp(year=year, month=month, day=day)\n",
    "            except:\n",
    "                return pd.NaT\n",
    "        else:\n",
    "            return pd.NaT\n",
    "\n",
    "# Aplicar la función al DataFrame original\n",
    "df_hospital['fecha_nacimiento_limpia'] = df_hospital['fecha_nacimiento'].apply(limpiar_y_corregir_fecha)"
   ]
  },
  {
   "cell_type": "code",
   "execution_count": 63,
   "id": "bf12baef",
   "metadata": {},
   "outputs": [],
   "source": [
    "df_hospital['fecha_nacimiento_corregida'] = pd.to_datetime(df_hospital['fecha_nacimiento_limpia'], errors='coerce')"
   ]
  },
  {
   "cell_type": "code",
   "execution_count": 64,
   "id": "83746bb4",
   "metadata": {},
   "outputs": [],
   "source": [
    "# Recalculo de edad con la fecha corregida\n",
    "today = pd.to_datetime(\"today\")\n",
    "df_hospital['edad_recalculada'] = df_hospital['fecha_nacimiento_corregida'].apply(\n",
    "lambda x: today.year - x.year - ((today.month, today.day) < (x.month, x.day)) if pd.notnull(x) else None\n",
    ")"
   ]
  },
  {
   "cell_type": "code",
   "execution_count": 65,
   "id": "9b4d36f4",
   "metadata": {},
   "outputs": [],
   "source": [
    "# Edad original es inconsistente\n",
    "df_hospital['edad_invalida'] = (df_hospital['edad'] != df_hospital['edad_recalculada']) & df_hospital['edad'].notnull()"
   ]
  },
  {
   "cell_type": "code",
   "execution_count": 66,
   "id": "e953620a",
   "metadata": {},
   "outputs": [],
   "source": [
    "# Estandarizar sexo\n",
    "sexo_map = {'F': 'Female', 'M': 'Male', 'f': 'Female', 'm': 'Male'}\n",
    "df_hospital['sexo_estandarizado'] = df_hospital['sexo'].map(sexo_map).fillna(df_hospital['sexo'])  \n",
    "df_hospital['sexo_invalido'] = ~df_hospital['sexo_estandarizado'].isin(['Female', 'Male']) & df_hospital['sexo_estandarizado'].notnull()\n",
    " "
   ]
  },
  {
   "cell_type": "code",
   "execution_count": 67,
   "id": "8ee88c6b",
   "metadata": {},
   "outputs": [],
   "source": [
    "#Limpieza de guiones y espacios\n",
    "df_hospital['telefono_limpio'] = df_hospital['telefono'].str.replace(r'\\D', '', regex=True)\n",
    "#valido de 7 a 10 digitos\n",
    "df_hospital['telefono_valido'] = df_hospital['telefono_limpio'].str.match(r'^\\d{7,10}$')"
   ]
  },
  {
   "cell_type": "code",
   "execution_count": 68,
   "id": "2960bc1a",
   "metadata": {},
   "outputs": [],
   "source": [
    "df_hospital['fecha_nacimiento_corregida'] = df_hospital['fecha_nacimiento_corregida'].dt.strftime('%d/%m/%Y')"
   ]
  },
  {
   "cell_type": "code",
   "execution_count": 69,
   "id": "da82ecff",
   "metadata": {},
   "outputs": [],
   "source": [
    "df_hospital['edad_invalida'] = (\n",
    "    df_hospital['edad_recalculada'].isnull() |          # Edad faltante\n",
    "    (df_hospital['edad_recalculada'] < 0) |             # Edad negativa\n",
    "    (df_hospital['edad_recalculada'] > 120)             # Edad mayor a un valor razonable\n",
    ")"
   ]
  },
  {
   "cell_type": "code",
   "execution_count": 70,
   "id": "3ac41fff",
   "metadata": {},
   "outputs": [
    {
     "name": "stdout",
     "output_type": "stream",
     "text": [
      "Teléfonos inválidos: 0\n",
      "Empty DataFrame\n",
      "Columns: [id_paciente, nombre, telefono_limpio]\n",
      "Index: []\n"
     ]
    }
   ],
   "source": [
    "# Extraer solo dígitos\n",
    "telefono_digitos = df_hospital['telefono_limpio'].str.replace(r'\\D', '', regex=True)\n",
    "\n",
    "# Validar si tienen entre 7 y 10 dígitos\n",
    "telefonos_validos = telefono_digitos.str.match(r'^\\d{7,10}$').fillna(False)\n",
    "\n",
    "\n",
    "df_hospital['telefono_invalido'] = (~telefonos_validos) & df_hospital['telefono_limpio'].notnull() & (df_hospital['telefono_limpio'].str.strip() != '')\n",
    "\n",
    "# Contar cuántos son inválidos\n",
    "conteo_invalidos = df_hospital['telefono_invalido'].sum()\n",
    "print(f\"Teléfonos inválidos: {conteo_invalidos}\")\n",
    "\n",
    "\n",
    "print(df_hospital[df_hospital['telefono_invalido']][['id_paciente', 'nombre', 'telefono_limpio']])\n",
    "\n"
   ]
  },
  {
   "cell_type": "markdown",
   "id": "a4d1e912",
   "metadata": {},
   "source": [
    "## Resumen Calidad de datos posterior a la limpieza y validación "
   ]
  },
  {
   "cell_type": "code",
   "execution_count": 71,
   "id": "583d2898",
   "metadata": {},
   "outputs": [
    {
     "name": "stdout",
     "output_type": "stream",
     "text": [
      "📋 RESUMEN DE PROBLEMAS DE CALIDAD DE DATOS\n",
      "------------------------------------------------\n",
      "Fechas de nacimiento inválidas: 0\n",
      "Registros con edad inválida: 0\n",
      "Registros con sexo inválido: 0\n",
      "Registros con telefono inválido: 0\n",
      "Registros con ciudad inválido: 0\n",
      "\n",
      "Valores faltantes por campo:\n",
      "id_paciente            0\n",
      "nombre                 0\n",
      "fecha_nacimiento       0\n",
      "edad                1645\n",
      "sexo                1022\n",
      "email               2503\n",
      "telefono            1664\n",
      "ciudad               826\n",
      "dtype: int64\n"
     ]
    }
   ],
   "source": [
    "# Resumen general de problemas de calidad de datos\n",
    "\n",
    "faltantes = df_hospital[['id_paciente', 'nombre', 'fecha_nacimiento', 'edad', 'sexo', 'email','telefono', 'ciudad']].isnull().sum()\n",
    "print(\"📋 RESUMEN DE PROBLEMAS DE CALIDAD DE DATOS\")\n",
    "print(\"------------------------------------------------\")\n",
    "print(f\"Fechas de nacimiento inválidas: {df_hospital['fecha_nacimiento_corregida'].isna().sum()}\")\n",
    "print(f\"Registros con edad inválida: {df_hospital['edad_invalida'].sum()}\")\n",
    "print(f\"Registros con sexo inválido: {df_hospital['sexo_invalido'].sum()}\")\n",
    "print(f\"Registros con telefono inválido: {df_hospital['telefono_invalido'].sum()}\")\n",
    "print(f\"Registros con ciudad inválido: {df_hospital['ciudad_invalida'].sum()}\")\n",
    "print(\"\\nValores faltantes por campo:\")\n",
    "print(faltantes)"
   ]
  },
  {
   "cell_type": "code",
   "execution_count": 72,
   "id": "447d8d6e",
   "metadata": {},
   "outputs": [
    {
     "name": "stdout",
     "output_type": "stream",
     "text": [
      "Registros con fecha de nacimiento inválida:\n",
      "Empty DataFrame\n",
      "Columns: [id_paciente, nombre, ciudad, ciudad_valida]\n",
      "Index: []\n"
     ]
    }
   ],
   "source": [
    "fechas_invalidas = df_hospital[df_hospital['ciudad_valida'].isna()]\n",
    "print(\"Registros con fecha de nacimiento inválida:\")\n",
    "print(fechas_invalidas[['id_paciente', 'nombre', 'ciudad', 'ciudad_valida']])\n"
   ]
  },
  {
   "cell_type": "code",
   "execution_count": 73,
   "id": "0c1218cf",
   "metadata": {},
   "outputs": [
    {
     "name": "stdout",
     "output_type": "stream",
     "text": [
      "\n",
      "EJEMPLOS DE REGISTROS CON ERRORES:\n",
      "    id_paciente          nombre fecha_nacimiento fecha_nacimiento_parseada  \\\n",
      "0             1  Claudia Torres       1954-01-08                1954-01-08   \n",
      "1             2    Carlos Gómez       1965-01-01                1965-01-01   \n",
      "2             3    Carlos Gómez       2009-03-08                2009-03-08   \n",
      "3             4    Andrea López       1951-11-18                1951-11-18   \n",
      "4             5      Juan Gómez       1961-09-05                1961-09-05   \n",
      "5             6     María López       1966-10-26                1966-10-26   \n",
      "6             7    María Torres       1954-03-16                1954-03-16   \n",
      "7             8    Andrea López       2004-02-12                2004-02-12   \n",
      "8             9    María Torres       1974-02-04                1974-02-04   \n",
      "9            10      Juan López       1961-04-28                1961-04-28   \n",
      "10           11     María López       1961-06-15                1961-06-15   \n",
      "11           12    Carlos López       1955-03-07                1955-03-07   \n",
      "12           13      Juan Rojas       2009-10-02                2009-10-02   \n",
      "13           14     María López       1982-02-07                1982-02-07   \n",
      "14           15    Carlos Gómez       1985-12-30                1985-12-30   \n",
      "15           16   Carlos Torres       1969-09-18                1969-09-18   \n",
      "16           17    Carlos Pérez       1991-11-20                1991-11-20   \n",
      "17           18   Claudia López       1977-01-24                1977-01-24   \n",
      "18           19     María Pérez       1984-03-02                1984-03-02   \n",
      "19           20      Juan López       1950-10-15                1950-10-15   \n",
      "\n",
      "   fecha_nacimiento_corregida  edad  edad_recalculada  edad_invalida    sexo  \\\n",
      "0                  01/08/1954   NaN                70          False  Female   \n",
      "1                  01/01/1965  58.0                60          False  Female   \n",
      "2                  03/08/2009  16.0                15          False    None   \n",
      "3                  18/11/1951  47.0                73          False       F   \n",
      "4                  09/05/1961  81.0                64          False  Female   \n",
      "5                  26/10/1966  59.0                58          False    Male   \n",
      "6                  16/03/1954  72.0                71          False    None   \n",
      "7                  02/12/2004  21.0                20          False       M   \n",
      "8                  02/04/1974  47.0                51          False       F   \n",
      "9                  28/04/1961   NaN                64          False       M   \n",
      "10                 15/06/1961  23.0                64          False       F   \n",
      "11                 03/07/1955  53.0                69          False  Female   \n",
      "12                 10/02/2009  56.0                16          False       F   \n",
      "13                 02/07/1982  40.0                42          False       M   \n",
      "14                 30/12/1985  40.0                39          False    Male   \n",
      "15                 18/09/1969  56.0                55          False  Female   \n",
      "16                 20/11/1991   NaN                33          False    Male   \n",
      "17                 24/01/1977  66.0                48          False    None   \n",
      "18                 03/02/1984  13.0                41          False  Female   \n",
      "19                 15/10/1950  75.0                74          False    Male   \n",
      "\n",
      "   sexo_estandarizado  sexo_invalido               email      telefono  \\\n",
      "0              Female          False   user1@example.com  342-950-1064   \n",
      "1              Female          False                None          None   \n",
      "2                None          False   user3@example.com    3157898999   \n",
      "3              Female          False   user4@example.com          None   \n",
      "4              Female          False   user5@example.com          None   \n",
      "5                Male          False   user6@example.com          None   \n",
      "6                None          False   user7@example.com  317-190-8509   \n",
      "7                Male          False   user8@example.com    3173897017   \n",
      "8              Female          False   user9@example.com  389-624-9971   \n",
      "9                Male          False                None  346-103-1820   \n",
      "10             Female          False  user11@example.com    3171531314   \n",
      "11             Female          False  user12@example.com  345-407-7931   \n",
      "12             Female          False  user13@example.com  340-217-9714   \n",
      "13               Male          False  user14@example.com          None   \n",
      "14               Male          False  user15@example.com    3146233885   \n",
      "15             Female          False  user16@example.com    3185972562   \n",
      "16               Male          False  user17@example.com  325-922-6919   \n",
      "17               None          False  user18@example.com  304-274-2462   \n",
      "18             Female          False  user19@example.com  351-739-2233   \n",
      "19               Male          False  user20@example.com  331-579-7142   \n",
      "\n",
      "   telefono_limpio  telefono_invalido        ciudad  ciudad_invalida  \n",
      "0       3429501064              False  Barranquilla            False  \n",
      "1             None              False          Cali            False  \n",
      "2       3157898999              False   Bucaramanga            False  \n",
      "3             None              False  Barranquilla            False  \n",
      "4             None              False   Bucaramanga            False  \n",
      "5             None              False        Bogotá            False  \n",
      "6       3171908509              False          Cali            False  \n",
      "7       3173897017              False      Medellín            False  \n",
      "8       3896249971              False  Barranquilla            False  \n",
      "9       3461031820              False      Medellín            False  \n",
      "10      3171531314              False   Bucaramanga            False  \n",
      "11      3454077931              False          Cali            False  \n",
      "12      3402179714              False          None            False  \n",
      "13            None              False   Bucaramanga            False  \n",
      "14      3146233885              False  Barranquilla            False  \n",
      "15      3185972562              False          None            False  \n",
      "16      3259226919              False          Cali            False  \n",
      "17      3042742462              False          Cali            False  \n",
      "18      3517392233              False          None            False  \n",
      "19      3315797142              False   Bucaramanga            False  \n"
     ]
    }
   ],
   "source": [
    "#Ejemplo de registros con errores\n",
    "\n",
    "errores = df_hospital[\n",
    "    (df_hospital['fecha_nacimiento_parseada'].isna()) |\n",
    "    (df_hospital['edad_invalida']) |\n",
    "    (df_hospital['sexo_invalido']) |\n",
    "    (df_hospital['telefono_limpio']) |\n",
    "    (df_hospital[['edad', 'sexo', 'email', 'telefono', 'ciudad']].isnull().any(axis=1))]\n",
    "\n",
    "print(\"\\nEJEMPLOS DE REGISTROS CON ERRORES:\")\n",
    "print(errores[['id_paciente', 'nombre', 'fecha_nacimiento', 'fecha_nacimiento_parseada','fecha_nacimiento_corregida',\n",
    "               'edad', 'edad_recalculada', 'edad_invalida',\n",
    "               'sexo', 'sexo_estandarizado', 'sexo_invalido',\n",
    "               'email', 'telefono','telefono_limpio', 'telefono_invalido', 'ciudad','ciudad_invalida']].head(20))"
   ]
  },
  {
   "cell_type": "code",
   "execution_count": 74,
   "id": "a6fd7a40",
   "metadata": {},
   "outputs": [
    {
     "data": {
      "text/html": [
       "<div>\n",
       "<style scoped>\n",
       "    .dataframe tbody tr th:only-of-type {\n",
       "        vertical-align: middle;\n",
       "    }\n",
       "\n",
       "    .dataframe tbody tr th {\n",
       "        vertical-align: top;\n",
       "    }\n",
       "\n",
       "    .dataframe thead th {\n",
       "        text-align: right;\n",
       "    }\n",
       "</style>\n",
       "<table border=\"1\" class=\"dataframe\">\n",
       "  <thead>\n",
       "    <tr style=\"text-align: right;\">\n",
       "      <th></th>\n",
       "      <th>id_paciente</th>\n",
       "      <th>nombre</th>\n",
       "      <th>fecha_nacimiento</th>\n",
       "      <th>edad</th>\n",
       "      <th>sexo</th>\n",
       "      <th>email</th>\n",
       "      <th>telefono</th>\n",
       "      <th>ciudad</th>\n",
       "      <th>fecha_nacimiento_invalidas</th>\n",
       "      <th>fecha_nacimiento_parseada</th>\n",
       "      <th>...</th>\n",
       "      <th>email_valido</th>\n",
       "      <th>telefono_invalido</th>\n",
       "      <th>ciudad_invalida</th>\n",
       "      <th>ciudad_valida</th>\n",
       "      <th>fecha_nacimiento_limpia</th>\n",
       "      <th>fecha_nacimiento_corregida</th>\n",
       "      <th>edad_recalculada</th>\n",
       "      <th>sexo_estandarizado</th>\n",
       "      <th>telefono_limpio</th>\n",
       "      <th>telefono_valido</th>\n",
       "    </tr>\n",
       "  </thead>\n",
       "  <tbody>\n",
       "    <tr>\n",
       "      <th>0</th>\n",
       "      <td>1</td>\n",
       "      <td>Claudia Torres</td>\n",
       "      <td>1954-01-08</td>\n",
       "      <td>NaN</td>\n",
       "      <td>Female</td>\n",
       "      <td>user1@example.com</td>\n",
       "      <td>342-950-1064</td>\n",
       "      <td>Barranquilla</td>\n",
       "      <td>1954-01-08</td>\n",
       "      <td>1954-01-08</td>\n",
       "      <td>...</td>\n",
       "      <td>True</td>\n",
       "      <td>False</td>\n",
       "      <td>False</td>\n",
       "      <td>True</td>\n",
       "      <td>1954-08-01</td>\n",
       "      <td>01/08/1954</td>\n",
       "      <td>70</td>\n",
       "      <td>Female</td>\n",
       "      <td>3429501064</td>\n",
       "      <td>True</td>\n",
       "    </tr>\n",
       "    <tr>\n",
       "      <th>1</th>\n",
       "      <td>2</td>\n",
       "      <td>Carlos Gómez</td>\n",
       "      <td>1965-01-01</td>\n",
       "      <td>58.0</td>\n",
       "      <td>Female</td>\n",
       "      <td>None</td>\n",
       "      <td>None</td>\n",
       "      <td>Cali</td>\n",
       "      <td>1965-01-01</td>\n",
       "      <td>1965-01-01</td>\n",
       "      <td>...</td>\n",
       "      <td>False</td>\n",
       "      <td>False</td>\n",
       "      <td>False</td>\n",
       "      <td>True</td>\n",
       "      <td>1965-01-01</td>\n",
       "      <td>01/01/1965</td>\n",
       "      <td>60</td>\n",
       "      <td>Female</td>\n",
       "      <td>None</td>\n",
       "      <td>None</td>\n",
       "    </tr>\n",
       "    <tr>\n",
       "      <th>2</th>\n",
       "      <td>3</td>\n",
       "      <td>Carlos Gómez</td>\n",
       "      <td>2009-03-08</td>\n",
       "      <td>16.0</td>\n",
       "      <td>None</td>\n",
       "      <td>user3@example.com</td>\n",
       "      <td>3157898999</td>\n",
       "      <td>Bucaramanga</td>\n",
       "      <td>2009-03-08</td>\n",
       "      <td>2009-03-08</td>\n",
       "      <td>...</td>\n",
       "      <td>True</td>\n",
       "      <td>False</td>\n",
       "      <td>False</td>\n",
       "      <td>True</td>\n",
       "      <td>2009-08-03</td>\n",
       "      <td>03/08/2009</td>\n",
       "      <td>15</td>\n",
       "      <td>None</td>\n",
       "      <td>3157898999</td>\n",
       "      <td>True</td>\n",
       "    </tr>\n",
       "    <tr>\n",
       "      <th>3</th>\n",
       "      <td>4</td>\n",
       "      <td>Andrea López</td>\n",
       "      <td>1951-11-18</td>\n",
       "      <td>47.0</td>\n",
       "      <td>F</td>\n",
       "      <td>user4@example.com</td>\n",
       "      <td>None</td>\n",
       "      <td>Barranquilla</td>\n",
       "      <td>1951-11-18</td>\n",
       "      <td>1951-11-18</td>\n",
       "      <td>...</td>\n",
       "      <td>True</td>\n",
       "      <td>False</td>\n",
       "      <td>False</td>\n",
       "      <td>True</td>\n",
       "      <td>1951-11-18</td>\n",
       "      <td>18/11/1951</td>\n",
       "      <td>73</td>\n",
       "      <td>Female</td>\n",
       "      <td>None</td>\n",
       "      <td>None</td>\n",
       "    </tr>\n",
       "    <tr>\n",
       "      <th>4</th>\n",
       "      <td>5</td>\n",
       "      <td>Juan Gómez</td>\n",
       "      <td>1961-09-05</td>\n",
       "      <td>81.0</td>\n",
       "      <td>Female</td>\n",
       "      <td>user5@example.com</td>\n",
       "      <td>None</td>\n",
       "      <td>Bucaramanga</td>\n",
       "      <td>1961-09-05</td>\n",
       "      <td>1961-09-05</td>\n",
       "      <td>...</td>\n",
       "      <td>True</td>\n",
       "      <td>False</td>\n",
       "      <td>False</td>\n",
       "      <td>True</td>\n",
       "      <td>1961-05-09</td>\n",
       "      <td>09/05/1961</td>\n",
       "      <td>64</td>\n",
       "      <td>Female</td>\n",
       "      <td>None</td>\n",
       "      <td>None</td>\n",
       "    </tr>\n",
       "    <tr>\n",
       "      <th>5</th>\n",
       "      <td>6</td>\n",
       "      <td>María López</td>\n",
       "      <td>1966-10-26</td>\n",
       "      <td>59.0</td>\n",
       "      <td>Male</td>\n",
       "      <td>user6@example.com</td>\n",
       "      <td>None</td>\n",
       "      <td>Bogotá</td>\n",
       "      <td>1966-10-26</td>\n",
       "      <td>1966-10-26</td>\n",
       "      <td>...</td>\n",
       "      <td>True</td>\n",
       "      <td>False</td>\n",
       "      <td>False</td>\n",
       "      <td>True</td>\n",
       "      <td>1966-10-26</td>\n",
       "      <td>26/10/1966</td>\n",
       "      <td>58</td>\n",
       "      <td>Male</td>\n",
       "      <td>None</td>\n",
       "      <td>None</td>\n",
       "    </tr>\n",
       "    <tr>\n",
       "      <th>6</th>\n",
       "      <td>7</td>\n",
       "      <td>María Torres</td>\n",
       "      <td>1954-03-16</td>\n",
       "      <td>72.0</td>\n",
       "      <td>None</td>\n",
       "      <td>user7@example.com</td>\n",
       "      <td>317-190-8509</td>\n",
       "      <td>Cali</td>\n",
       "      <td>1954-03-16</td>\n",
       "      <td>1954-03-16</td>\n",
       "      <td>...</td>\n",
       "      <td>True</td>\n",
       "      <td>False</td>\n",
       "      <td>False</td>\n",
       "      <td>True</td>\n",
       "      <td>1954-03-16</td>\n",
       "      <td>16/03/1954</td>\n",
       "      <td>71</td>\n",
       "      <td>None</td>\n",
       "      <td>3171908509</td>\n",
       "      <td>True</td>\n",
       "    </tr>\n",
       "    <tr>\n",
       "      <th>7</th>\n",
       "      <td>8</td>\n",
       "      <td>Andrea López</td>\n",
       "      <td>2004-02-12</td>\n",
       "      <td>21.0</td>\n",
       "      <td>M</td>\n",
       "      <td>user8@example.com</td>\n",
       "      <td>3173897017</td>\n",
       "      <td>Medellín</td>\n",
       "      <td>2004-02-12</td>\n",
       "      <td>2004-02-12</td>\n",
       "      <td>...</td>\n",
       "      <td>True</td>\n",
       "      <td>False</td>\n",
       "      <td>False</td>\n",
       "      <td>True</td>\n",
       "      <td>2004-12-02</td>\n",
       "      <td>02/12/2004</td>\n",
       "      <td>20</td>\n",
       "      <td>Male</td>\n",
       "      <td>3173897017</td>\n",
       "      <td>True</td>\n",
       "    </tr>\n",
       "    <tr>\n",
       "      <th>8</th>\n",
       "      <td>9</td>\n",
       "      <td>María Torres</td>\n",
       "      <td>1974-02-04</td>\n",
       "      <td>47.0</td>\n",
       "      <td>F</td>\n",
       "      <td>user9@example.com</td>\n",
       "      <td>389-624-9971</td>\n",
       "      <td>Barranquilla</td>\n",
       "      <td>1974-02-04</td>\n",
       "      <td>1974-02-04</td>\n",
       "      <td>...</td>\n",
       "      <td>True</td>\n",
       "      <td>False</td>\n",
       "      <td>False</td>\n",
       "      <td>True</td>\n",
       "      <td>1974-04-02</td>\n",
       "      <td>02/04/1974</td>\n",
       "      <td>51</td>\n",
       "      <td>Female</td>\n",
       "      <td>3896249971</td>\n",
       "      <td>True</td>\n",
       "    </tr>\n",
       "    <tr>\n",
       "      <th>9</th>\n",
       "      <td>10</td>\n",
       "      <td>Juan López</td>\n",
       "      <td>1961-04-28</td>\n",
       "      <td>NaN</td>\n",
       "      <td>M</td>\n",
       "      <td>None</td>\n",
       "      <td>346-103-1820</td>\n",
       "      <td>Medellín</td>\n",
       "      <td>1961-04-28</td>\n",
       "      <td>1961-04-28</td>\n",
       "      <td>...</td>\n",
       "      <td>False</td>\n",
       "      <td>False</td>\n",
       "      <td>False</td>\n",
       "      <td>True</td>\n",
       "      <td>1961-04-28</td>\n",
       "      <td>28/04/1961</td>\n",
       "      <td>64</td>\n",
       "      <td>Male</td>\n",
       "      <td>3461031820</td>\n",
       "      <td>True</td>\n",
       "    </tr>\n",
       "  </tbody>\n",
       "</table>\n",
       "<p>10 rows × 23 columns</p>\n",
       "</div>"
      ],
      "text/plain": [
       "   id_paciente          nombre fecha_nacimiento  edad    sexo  \\\n",
       "0            1  Claudia Torres       1954-01-08   NaN  Female   \n",
       "1            2    Carlos Gómez       1965-01-01  58.0  Female   \n",
       "2            3    Carlos Gómez       2009-03-08  16.0    None   \n",
       "3            4    Andrea López       1951-11-18  47.0       F   \n",
       "4            5      Juan Gómez       1961-09-05  81.0  Female   \n",
       "5            6     María López       1966-10-26  59.0    Male   \n",
       "6            7    María Torres       1954-03-16  72.0    None   \n",
       "7            8    Andrea López       2004-02-12  21.0       M   \n",
       "8            9    María Torres       1974-02-04  47.0       F   \n",
       "9           10      Juan López       1961-04-28   NaN       M   \n",
       "\n",
       "               email      telefono        ciudad fecha_nacimiento_invalidas  \\\n",
       "0  user1@example.com  342-950-1064  Barranquilla                 1954-01-08   \n",
       "1               None          None          Cali                 1965-01-01   \n",
       "2  user3@example.com    3157898999   Bucaramanga                 2009-03-08   \n",
       "3  user4@example.com          None  Barranquilla                 1951-11-18   \n",
       "4  user5@example.com          None   Bucaramanga                 1961-09-05   \n",
       "5  user6@example.com          None        Bogotá                 1966-10-26   \n",
       "6  user7@example.com  317-190-8509          Cali                 1954-03-16   \n",
       "7  user8@example.com    3173897017      Medellín                 2004-02-12   \n",
       "8  user9@example.com  389-624-9971  Barranquilla                 1974-02-04   \n",
       "9               None  346-103-1820      Medellín                 1961-04-28   \n",
       "\n",
       "  fecha_nacimiento_parseada  ...  email_valido  telefono_invalido  \\\n",
       "0                1954-01-08  ...          True              False   \n",
       "1                1965-01-01  ...         False              False   \n",
       "2                2009-03-08  ...          True              False   \n",
       "3                1951-11-18  ...          True              False   \n",
       "4                1961-09-05  ...          True              False   \n",
       "5                1966-10-26  ...          True              False   \n",
       "6                1954-03-16  ...          True              False   \n",
       "7                2004-02-12  ...          True              False   \n",
       "8                1974-02-04  ...          True              False   \n",
       "9                1961-04-28  ...         False              False   \n",
       "\n",
       "  ciudad_invalida  ciudad_valida  fecha_nacimiento_limpia  \\\n",
       "0           False           True               1954-08-01   \n",
       "1           False           True               1965-01-01   \n",
       "2           False           True               2009-08-03   \n",
       "3           False           True               1951-11-18   \n",
       "4           False           True               1961-05-09   \n",
       "5           False           True               1966-10-26   \n",
       "6           False           True               1954-03-16   \n",
       "7           False           True               2004-12-02   \n",
       "8           False           True               1974-04-02   \n",
       "9           False           True               1961-04-28   \n",
       "\n",
       "   fecha_nacimiento_corregida  edad_recalculada sexo_estandarizado  \\\n",
       "0                  01/08/1954                70             Female   \n",
       "1                  01/01/1965                60             Female   \n",
       "2                  03/08/2009                15               None   \n",
       "3                  18/11/1951                73             Female   \n",
       "4                  09/05/1961                64             Female   \n",
       "5                  26/10/1966                58               Male   \n",
       "6                  16/03/1954                71               None   \n",
       "7                  02/12/2004                20               Male   \n",
       "8                  02/04/1974                51             Female   \n",
       "9                  28/04/1961                64               Male   \n",
       "\n",
       "  telefono_limpio  telefono_valido  \n",
       "0      3429501064             True  \n",
       "1            None             None  \n",
       "2      3157898999             True  \n",
       "3            None             None  \n",
       "4            None             None  \n",
       "5            None             None  \n",
       "6      3171908509             True  \n",
       "7      3173897017             True  \n",
       "8      3896249971             True  \n",
       "9      3461031820             True  \n",
       "\n",
       "[10 rows x 23 columns]"
      ]
     },
     "execution_count": 74,
     "metadata": {},
     "output_type": "execute_result"
    }
   ],
   "source": [
    "df_hospital.head(10)"
   ]
  },
  {
   "cell_type": "code",
   "execution_count": 75,
   "id": "a3c57454",
   "metadata": {},
   "outputs": [
    {
     "data": {
      "text/plain": [
       "Index(['id_paciente', 'nombre', 'fecha_nacimiento', 'edad', 'sexo', 'email',\n",
       "       'telefono', 'ciudad', 'fecha_nacimiento_invalidas',\n",
       "       'fecha_nacimiento_parseada', 'edad_invalida', 'sexo_invalido',\n",
       "       'dominio', 'email_valido', 'telefono_invalido', 'ciudad_invalida',\n",
       "       'ciudad_valida', 'fecha_nacimiento_limpia',\n",
       "       'fecha_nacimiento_corregida', 'edad_recalculada', 'sexo_estandarizado',\n",
       "       'telefono_limpio', 'telefono_valido'],\n",
       "      dtype='object')"
      ]
     },
     "execution_count": 75,
     "metadata": {},
     "output_type": "execute_result"
    }
   ],
   "source": [
    "df_hospital.columns"
   ]
  },
  {
   "cell_type": "code",
   "execution_count": 76,
   "id": "20735dbc",
   "metadata": {},
   "outputs": [],
   "source": [
    "df_hospital_limpio = df_hospital[\n",
    "    ['id_paciente', 'nombre', 'fecha_nacimiento_corregida', 'edad_recalculada', 'sexo_estandarizado', 'email', 'telefono_limpio',  'ciudad']\n",
    "]\n"
   ]
  },
  {
   "cell_type": "code",
   "execution_count": 77,
   "id": "401e1c8d",
   "metadata": {},
   "outputs": [],
   "source": [
    "df_hospital_limpio = df_hospital_limpio.rename(columns={\n",
    "    'fecha_nacimiento_corregida': 'fecha_nacimiento',\n",
    "    'telefono_limpio': 'telefono',\n",
    "    'edad_recalculada':'edad',\n",
    "    'sexo_estandarizado':'sexo'\n",
    "})\n"
   ]
  },
  {
   "cell_type": "code",
   "execution_count": 78,
   "id": "6ce84b1c",
   "metadata": {},
   "outputs": [
    {
     "data": {
      "text/html": [
       "<div>\n",
       "<style scoped>\n",
       "    .dataframe tbody tr th:only-of-type {\n",
       "        vertical-align: middle;\n",
       "    }\n",
       "\n",
       "    .dataframe tbody tr th {\n",
       "        vertical-align: top;\n",
       "    }\n",
       "\n",
       "    .dataframe thead th {\n",
       "        text-align: right;\n",
       "    }\n",
       "</style>\n",
       "<table border=\"1\" class=\"dataframe\">\n",
       "  <thead>\n",
       "    <tr style=\"text-align: right;\">\n",
       "      <th></th>\n",
       "      <th>id_paciente</th>\n",
       "      <th>nombre</th>\n",
       "      <th>fecha_nacimiento</th>\n",
       "      <th>edad</th>\n",
       "      <th>sexo</th>\n",
       "      <th>email</th>\n",
       "      <th>telefono</th>\n",
       "      <th>ciudad</th>\n",
       "    </tr>\n",
       "  </thead>\n",
       "  <tbody>\n",
       "    <tr>\n",
       "      <th>0</th>\n",
       "      <td>1</td>\n",
       "      <td>Claudia Torres</td>\n",
       "      <td>01/08/1954</td>\n",
       "      <td>70</td>\n",
       "      <td>Female</td>\n",
       "      <td>user1@example.com</td>\n",
       "      <td>3429501064</td>\n",
       "      <td>Barranquilla</td>\n",
       "    </tr>\n",
       "    <tr>\n",
       "      <th>1</th>\n",
       "      <td>2</td>\n",
       "      <td>Carlos Gómez</td>\n",
       "      <td>01/01/1965</td>\n",
       "      <td>60</td>\n",
       "      <td>Female</td>\n",
       "      <td>None</td>\n",
       "      <td>None</td>\n",
       "      <td>Cali</td>\n",
       "    </tr>\n",
       "    <tr>\n",
       "      <th>2</th>\n",
       "      <td>3</td>\n",
       "      <td>Carlos Gómez</td>\n",
       "      <td>03/08/2009</td>\n",
       "      <td>15</td>\n",
       "      <td>None</td>\n",
       "      <td>user3@example.com</td>\n",
       "      <td>3157898999</td>\n",
       "      <td>Bucaramanga</td>\n",
       "    </tr>\n",
       "    <tr>\n",
       "      <th>3</th>\n",
       "      <td>4</td>\n",
       "      <td>Andrea López</td>\n",
       "      <td>18/11/1951</td>\n",
       "      <td>73</td>\n",
       "      <td>Female</td>\n",
       "      <td>user4@example.com</td>\n",
       "      <td>None</td>\n",
       "      <td>Barranquilla</td>\n",
       "    </tr>\n",
       "    <tr>\n",
       "      <th>4</th>\n",
       "      <td>5</td>\n",
       "      <td>Juan Gómez</td>\n",
       "      <td>09/05/1961</td>\n",
       "      <td>64</td>\n",
       "      <td>Female</td>\n",
       "      <td>user5@example.com</td>\n",
       "      <td>None</td>\n",
       "      <td>Bucaramanga</td>\n",
       "    </tr>\n",
       "    <tr>\n",
       "      <th>...</th>\n",
       "      <td>...</td>\n",
       "      <td>...</td>\n",
       "      <td>...</td>\n",
       "      <td>...</td>\n",
       "      <td>...</td>\n",
       "      <td>...</td>\n",
       "      <td>...</td>\n",
       "      <td>...</td>\n",
       "    </tr>\n",
       "    <tr>\n",
       "      <th>5005</th>\n",
       "      <td>3000</td>\n",
       "      <td>María Torres</td>\n",
       "      <td>04/06/1967</td>\n",
       "      <td>58</td>\n",
       "      <td>Male</td>\n",
       "      <td>user3000@example.com</td>\n",
       "      <td>3160989102</td>\n",
       "      <td>Cali</td>\n",
       "    </tr>\n",
       "    <tr>\n",
       "      <th>5006</th>\n",
       "      <td>3500</td>\n",
       "      <td>Andrea Gómez</td>\n",
       "      <td>24/03/1983</td>\n",
       "      <td>42</td>\n",
       "      <td>None</td>\n",
       "      <td>None</td>\n",
       "      <td>3385697238</td>\n",
       "      <td>Bogotá</td>\n",
       "    </tr>\n",
       "    <tr>\n",
       "      <th>5007</th>\n",
       "      <td>4000</td>\n",
       "      <td>Claudia López</td>\n",
       "      <td>18/04/1976</td>\n",
       "      <td>49</td>\n",
       "      <td>Female</td>\n",
       "      <td>None</td>\n",
       "      <td>None</td>\n",
       "      <td>Cali</td>\n",
       "    </tr>\n",
       "    <tr>\n",
       "      <th>5008</th>\n",
       "      <td>4500</td>\n",
       "      <td>Andrea Torres</td>\n",
       "      <td>12/07/1978</td>\n",
       "      <td>46</td>\n",
       "      <td>Male</td>\n",
       "      <td>user4500@example.com</td>\n",
       "      <td>3140055186</td>\n",
       "      <td>Barranquilla</td>\n",
       "    </tr>\n",
       "    <tr>\n",
       "      <th>5009</th>\n",
       "      <td>5000</td>\n",
       "      <td>Claudia Gómez</td>\n",
       "      <td>17/03/1966</td>\n",
       "      <td>59</td>\n",
       "      <td>Male</td>\n",
       "      <td>user5000@example.com</td>\n",
       "      <td>None</td>\n",
       "      <td>Cali</td>\n",
       "    </tr>\n",
       "  </tbody>\n",
       "</table>\n",
       "<p>5000 rows × 8 columns</p>\n",
       "</div>"
      ],
      "text/plain": [
       "      id_paciente          nombre fecha_nacimiento  edad    sexo  \\\n",
       "0               1  Claudia Torres       01/08/1954    70  Female   \n",
       "1               2    Carlos Gómez       01/01/1965    60  Female   \n",
       "2               3    Carlos Gómez       03/08/2009    15    None   \n",
       "3               4    Andrea López       18/11/1951    73  Female   \n",
       "4               5      Juan Gómez       09/05/1961    64  Female   \n",
       "...           ...             ...              ...   ...     ...   \n",
       "5005         3000    María Torres       04/06/1967    58    Male   \n",
       "5006         3500    Andrea Gómez       24/03/1983    42    None   \n",
       "5007         4000   Claudia López       18/04/1976    49  Female   \n",
       "5008         4500   Andrea Torres       12/07/1978    46    Male   \n",
       "5009         5000   Claudia Gómez       17/03/1966    59    Male   \n",
       "\n",
       "                     email    telefono        ciudad  \n",
       "0        user1@example.com  3429501064  Barranquilla  \n",
       "1                     None        None          Cali  \n",
       "2        user3@example.com  3157898999   Bucaramanga  \n",
       "3        user4@example.com        None  Barranquilla  \n",
       "4        user5@example.com        None   Bucaramanga  \n",
       "...                    ...         ...           ...  \n",
       "5005  user3000@example.com  3160989102          Cali  \n",
       "5006                  None  3385697238        Bogotá  \n",
       "5007                  None        None          Cali  \n",
       "5008  user4500@example.com  3140055186  Barranquilla  \n",
       "5009  user5000@example.com        None          Cali  \n",
       "\n",
       "[5000 rows x 8 columns]"
      ]
     },
     "execution_count": 78,
     "metadata": {},
     "output_type": "execute_result"
    }
   ],
   "source": [
    "df_hospital_limpio "
   ]
  },
  {
   "cell_type": "code",
   "execution_count": 79,
   "id": "e84a2def",
   "metadata": {},
   "outputs": [
    {
     "data": {
      "text/plain": [
       "Index(['id_paciente', 'nombre', 'fecha_nacimiento', 'edad', 'sexo', 'email',\n",
       "       'telefono', 'ciudad'],\n",
       "      dtype='object')"
      ]
     },
     "execution_count": 79,
     "metadata": {},
     "output_type": "execute_result"
    }
   ],
   "source": [
    "df_hospital_limpio.columns"
   ]
  },
  {
   "cell_type": "code",
   "execution_count": 80,
   "id": "93acecf6",
   "metadata": {},
   "outputs": [],
   "source": [
    "df_hospital_limpio.to_csv('df_hospital_limpio.csv', index=False, encoding='utf-8-sig')\n"
   ]
  },
  {
   "cell_type": "code",
   "execution_count": 81,
   "id": "8edff126",
   "metadata": {},
   "outputs": [],
   "source": [
    "df_hospital_limpio.to_json('df_hospital_limpio.json', orient='records', force_ascii=False, lines=False)\n"
   ]
  },
  {
   "cell_type": "code",
   "execution_count": null,
   "id": "20d27bdf-3ab3-4300-9672-3fb61b43fea8",
   "metadata": {},
   "outputs": [],
   "source": []
  },
  {
   "cell_type": "markdown",
   "id": "265686d1",
   "metadata": {},
   "source": [
    "\n",
    "# Resumen Ejecutivo\n",
    "\n",
    "Se realizó un análisis de calidad sobre la base de datos de pacientes del archivo `dataset_hospital.json`. A continuación se resumen los principales hallazgos:\n",
    "\n",
    "## Hallazgos Clave\n",
    "\n",
    "- Más del 40% de los registros presentan valores nulos en al menos un campo relevante (`edad`, `sexo`, `email`, `telefono`, `ciudad`).\n",
    "- El campo `sexo` contiene múltiples formatos: `M`, `F`, `Male`, `Female`, y valores nulos.\n",
    "- Inconsistencias entre la `edad` reportada y la calculada a partir de la `fecha_nacimiento`.\n",
    "- Varias fechas de nacimiento están mal formateadas o en lenguaje natural.\n",
    "- Algunos registros parecen duplicados basados en combinaciones de nombre y fecha de nacimiento.\n",
    "\n",
    "## Acciones Tomadas\n",
    "\n",
    "- Estandarización del campo `sexo` a valores binarios `M` o `F`.\n",
    "- Corrección de fechas con formato inadecuado cuando fue posible.\n",
    "- Cálculo automático de la edad con base en la fecha de nacimiento.\n",
    "- Visualización de la distribución de variables críticas para verificar consistencia.\n",
    "- Adición de pruebas automáticas para facilitar futuras validaciones.\n",
    "\n",
    "## Recomendaciones de calidad\n",
    "\n",
    "- Implementar controles de entrada de datos desde los sistemas de origen (ej. formularios web).\n",
    "- Usar listas desplegables o valores válidos definidos para campos categóricos.\n",
    "- Considerar migrar los datos limpios a un sistema de almacenamiento estructurado como un Data Warehouse.\n",
    "- Verificación de correos y teléfonos:Incluir verificación de correos con enlaces de activación y -validación de números por SMS.\n",
    "- Automatización de limpieza periódica:Programar tareas automáticas (ETL) que limpien y validen los datos semanal o mensualmente.\n",
    "- Establecer políticas de calidad de datos:Documentar y capacitar a los usuarios sobre estándares esperados para la captura y mantenimiento de datos.\n",
    "\n"
   ]
  },
  {
   "cell_type": "markdown",
   "id": "7b35db92",
   "metadata": {},
   "source": [
    "## 📏 Validaciones con Great Expectations"
   ]
  },
  {
   "cell_type": "code",
   "execution_count": 82,
   "id": "c3f3130b-2d3a-4c25-95c5-3bb411274342",
   "metadata": {},
   "outputs": [
    {
     "name": "stdout",
     "output_type": "stream",
     "text": [
      "Requirement already satisfied: great_expectations in /opt/anaconda3/lib/python3.13/site-packages (0.18.22)\n",
      "Requirement already satisfied: altair<5.0.0,>=4.2.1 in /opt/anaconda3/lib/python3.13/site-packages (from great_expectations) (4.2.2)\n",
      "Requirement already satisfied: Click>=7.1.2 in /opt/anaconda3/lib/python3.13/site-packages (from great_expectations) (8.1.8)\n",
      "Requirement already satisfied: colorama>=0.4.3 in /opt/anaconda3/lib/python3.13/site-packages (from great_expectations) (0.4.6)\n",
      "Requirement already satisfied: cryptography>=3.2 in /opt/anaconda3/lib/python3.13/site-packages (from great_expectations) (44.0.1)\n",
      "Requirement already satisfied: Ipython>=7.16.3 in /opt/anaconda3/lib/python3.13/site-packages (from great_expectations) (8.30.0)\n",
      "Requirement already satisfied: ipywidgets>=7.5.1 in /opt/anaconda3/lib/python3.13/site-packages (from great_expectations) (8.1.5)\n",
      "Requirement already satisfied: jinja2>=2.10 in /opt/anaconda3/lib/python3.13/site-packages (from great_expectations) (3.1.6)\n",
      "Requirement already satisfied: jsonpatch>=1.22 in /opt/anaconda3/lib/python3.13/site-packages (from great_expectations) (1.33)\n",
      "Requirement already satisfied: jsonschema>=2.5.1 in /opt/anaconda3/lib/python3.13/site-packages (from great_expectations) (4.23.0)\n",
      "Requirement already satisfied: makefun<2,>=1.7.0 in /opt/anaconda3/lib/python3.13/site-packages (from great_expectations) (1.16.0)\n",
      "Requirement already satisfied: marshmallow<4.0.0,>=3.7.1 in /opt/anaconda3/lib/python3.13/site-packages (from great_expectations) (3.26.1)\n",
      "Requirement already satisfied: mistune>=0.8.4 in /opt/anaconda3/lib/python3.13/site-packages (from great_expectations) (3.1.2)\n",
      "Requirement already satisfied: nbformat>=5.0 in /opt/anaconda3/lib/python3.13/site-packages (from great_expectations) (5.10.4)\n",
      "Requirement already satisfied: notebook>=6.4.10 in /opt/anaconda3/lib/python3.13/site-packages (from great_expectations) (7.3.2)\n",
      "Requirement already satisfied: packaging in /opt/anaconda3/lib/python3.13/site-packages (from great_expectations) (24.2)\n",
      "Requirement already satisfied: pydantic>=1.9.2 in /opt/anaconda3/lib/python3.13/site-packages (from great_expectations) (2.10.3)\n",
      "Requirement already satisfied: pyparsing>=2.4 in /opt/anaconda3/lib/python3.13/site-packages (from great_expectations) (3.2.0)\n",
      "Requirement already satisfied: python-dateutil>=2.8.1 in /opt/anaconda3/lib/python3.13/site-packages (from great_expectations) (2.9.0.post0)\n",
      "Requirement already satisfied: pytz>=2021.3 in /opt/anaconda3/lib/python3.13/site-packages (from great_expectations) (2024.1)\n",
      "Requirement already satisfied: requests>=2.20 in /opt/anaconda3/lib/python3.13/site-packages (from great_expectations) (2.32.3)\n",
      "Requirement already satisfied: ruamel.yaml<0.18,>=0.16 in /opt/anaconda3/lib/python3.13/site-packages (from great_expectations) (0.17.40)\n",
      "Requirement already satisfied: scipy>=1.6.0 in /opt/anaconda3/lib/python3.13/site-packages (from great_expectations) (1.15.3)\n",
      "Requirement already satisfied: tqdm>=4.59.0 in /opt/anaconda3/lib/python3.13/site-packages (from great_expectations) (4.67.1)\n",
      "Requirement already satisfied: typing-extensions>=3.10.0.0 in /opt/anaconda3/lib/python3.13/site-packages (from great_expectations) (4.12.2)\n",
      "Requirement already satisfied: tzlocal>=1.2 in /opt/anaconda3/lib/python3.13/site-packages (from great_expectations) (5.3.1)\n",
      "Requirement already satisfied: urllib3>=1.26 in /opt/anaconda3/lib/python3.13/site-packages (from great_expectations) (2.3.0)\n",
      "Requirement already satisfied: numpy<2.0.0,>=1.22.4 in /opt/anaconda3/lib/python3.13/site-packages (from great_expectations) (1.26.4)\n",
      "Requirement already satisfied: pandas>=1.3.0 in /opt/anaconda3/lib/python3.13/site-packages (from great_expectations) (2.2.3)\n",
      "Requirement already satisfied: entrypoints in /opt/anaconda3/lib/python3.13/site-packages (from altair<5.0.0,>=4.2.1->great_expectations) (0.4)\n",
      "Requirement already satisfied: toolz in /opt/anaconda3/lib/python3.13/site-packages (from altair<5.0.0,>=4.2.1->great_expectations) (1.0.0)\n",
      "Requirement already satisfied: cffi>=1.12 in /opt/anaconda3/lib/python3.13/site-packages (from cryptography>=3.2->great_expectations) (1.17.1)\n",
      "Requirement already satisfied: pycparser in /opt/anaconda3/lib/python3.13/site-packages (from cffi>=1.12->cryptography>=3.2->great_expectations) (2.21)\n",
      "Requirement already satisfied: decorator in /opt/anaconda3/lib/python3.13/site-packages (from Ipython>=7.16.3->great_expectations) (5.1.1)\n",
      "Requirement already satisfied: jedi>=0.16 in /opt/anaconda3/lib/python3.13/site-packages (from Ipython>=7.16.3->great_expectations) (0.19.2)\n",
      "Requirement already satisfied: matplotlib-inline in /opt/anaconda3/lib/python3.13/site-packages (from Ipython>=7.16.3->great_expectations) (0.1.6)\n",
      "Requirement already satisfied: prompt-toolkit<3.1.0,>=3.0.41 in /opt/anaconda3/lib/python3.13/site-packages (from Ipython>=7.16.3->great_expectations) (3.0.43)\n",
      "Requirement already satisfied: pygments>=2.4.0 in /opt/anaconda3/lib/python3.13/site-packages (from Ipython>=7.16.3->great_expectations) (2.19.1)\n",
      "Requirement already satisfied: stack-data in /opt/anaconda3/lib/python3.13/site-packages (from Ipython>=7.16.3->great_expectations) (0.2.0)\n",
      "Requirement already satisfied: traitlets>=5.13.0 in /opt/anaconda3/lib/python3.13/site-packages (from Ipython>=7.16.3->great_expectations) (5.14.3)\n",
      "Requirement already satisfied: pexpect>4.3 in /opt/anaconda3/lib/python3.13/site-packages (from Ipython>=7.16.3->great_expectations) (4.8.0)\n",
      "Requirement already satisfied: wcwidth in /opt/anaconda3/lib/python3.13/site-packages (from prompt-toolkit<3.1.0,>=3.0.41->Ipython>=7.16.3->great_expectations) (0.2.5)\n",
      "Requirement already satisfied: comm>=0.1.3 in /opt/anaconda3/lib/python3.13/site-packages (from ipywidgets>=7.5.1->great_expectations) (0.2.1)\n",
      "Requirement already satisfied: widgetsnbextension~=4.0.12 in /opt/anaconda3/lib/python3.13/site-packages (from ipywidgets>=7.5.1->great_expectations) (4.0.13)\n",
      "Requirement already satisfied: jupyterlab-widgets~=3.0.12 in /opt/anaconda3/lib/python3.13/site-packages (from ipywidgets>=7.5.1->great_expectations) (3.0.13)\n",
      "Requirement already satisfied: parso<0.9.0,>=0.8.4 in /opt/anaconda3/lib/python3.13/site-packages (from jedi>=0.16->Ipython>=7.16.3->great_expectations) (0.8.4)\n",
      "Requirement already satisfied: MarkupSafe>=2.0 in /opt/anaconda3/lib/python3.13/site-packages (from jinja2>=2.10->great_expectations) (3.0.2)\n",
      "Requirement already satisfied: jsonpointer>=1.9 in /opt/anaconda3/lib/python3.13/site-packages (from jsonpatch>=1.22->great_expectations) (2.1)\n",
      "Requirement already satisfied: attrs>=22.2.0 in /opt/anaconda3/lib/python3.13/site-packages (from jsonschema>=2.5.1->great_expectations) (24.3.0)\n",
      "Requirement already satisfied: jsonschema-specifications>=2023.03.6 in /opt/anaconda3/lib/python3.13/site-packages (from jsonschema>=2.5.1->great_expectations) (2023.7.1)\n",
      "Requirement already satisfied: referencing>=0.28.4 in /opt/anaconda3/lib/python3.13/site-packages (from jsonschema>=2.5.1->great_expectations) (0.30.2)\n",
      "Requirement already satisfied: rpds-py>=0.7.1 in /opt/anaconda3/lib/python3.13/site-packages (from jsonschema>=2.5.1->great_expectations) (0.22.3)\n",
      "Requirement already satisfied: fastjsonschema>=2.15 in /opt/anaconda3/lib/python3.13/site-packages (from nbformat>=5.0->great_expectations) (2.20.0)\n",
      "Requirement already satisfied: jupyter-core!=5.0.*,>=4.12 in /opt/anaconda3/lib/python3.13/site-packages (from nbformat>=5.0->great_expectations) (5.7.2)\n",
      "Requirement already satisfied: platformdirs>=2.5 in /opt/anaconda3/lib/python3.13/site-packages (from jupyter-core!=5.0.*,>=4.12->nbformat>=5.0->great_expectations) (4.3.7)\n",
      "Requirement already satisfied: jupyter-server<3,>=2.4.0 in /opt/anaconda3/lib/python3.13/site-packages (from notebook>=6.4.10->great_expectations) (2.15.0)\n",
      "Requirement already satisfied: jupyterlab-server<3,>=2.27.1 in /opt/anaconda3/lib/python3.13/site-packages (from notebook>=6.4.10->great_expectations) (2.27.3)\n",
      "Requirement already satisfied: jupyterlab<4.4,>=4.3.4 in /opt/anaconda3/lib/python3.13/site-packages (from notebook>=6.4.10->great_expectations) (4.3.4)\n",
      "Requirement already satisfied: notebook-shim<0.3,>=0.2 in /opt/anaconda3/lib/python3.13/site-packages (from notebook>=6.4.10->great_expectations) (0.2.4)\n",
      "Requirement already satisfied: tornado>=6.2.0 in /opt/anaconda3/lib/python3.13/site-packages (from notebook>=6.4.10->great_expectations) (6.5.1)\n",
      "Requirement already satisfied: anyio>=3.1.0 in /opt/anaconda3/lib/python3.13/site-packages (from jupyter-server<3,>=2.4.0->notebook>=6.4.10->great_expectations) (4.7.0)\n",
      "Requirement already satisfied: argon2-cffi>=21.1 in /opt/anaconda3/lib/python3.13/site-packages (from jupyter-server<3,>=2.4.0->notebook>=6.4.10->great_expectations) (21.3.0)\n",
      "Requirement already satisfied: jupyter-client>=7.4.4 in /opt/anaconda3/lib/python3.13/site-packages (from jupyter-server<3,>=2.4.0->notebook>=6.4.10->great_expectations) (8.6.3)\n",
      "Requirement already satisfied: jupyter-events>=0.11.0 in /opt/anaconda3/lib/python3.13/site-packages (from jupyter-server<3,>=2.4.0->notebook>=6.4.10->great_expectations) (0.12.0)\n",
      "Requirement already satisfied: jupyter-server-terminals>=0.4.4 in /opt/anaconda3/lib/python3.13/site-packages (from jupyter-server<3,>=2.4.0->notebook>=6.4.10->great_expectations) (0.5.3)\n",
      "Requirement already satisfied: nbconvert>=6.4.4 in /opt/anaconda3/lib/python3.13/site-packages (from jupyter-server<3,>=2.4.0->notebook>=6.4.10->great_expectations) (7.16.6)\n",
      "Requirement already satisfied: overrides>=5.0 in /opt/anaconda3/lib/python3.13/site-packages (from jupyter-server<3,>=2.4.0->notebook>=6.4.10->great_expectations) (7.4.0)\n",
      "Requirement already satisfied: prometheus-client>=0.9 in /opt/anaconda3/lib/python3.13/site-packages (from jupyter-server<3,>=2.4.0->notebook>=6.4.10->great_expectations) (0.21.1)\n",
      "Requirement already satisfied: pyzmq>=24 in /opt/anaconda3/lib/python3.13/site-packages (from jupyter-server<3,>=2.4.0->notebook>=6.4.10->great_expectations) (26.2.0)\n",
      "Requirement already satisfied: send2trash>=1.8.2 in /opt/anaconda3/lib/python3.13/site-packages (from jupyter-server<3,>=2.4.0->notebook>=6.4.10->great_expectations) (1.8.2)\n",
      "Requirement already satisfied: terminado>=0.8.3 in /opt/anaconda3/lib/python3.13/site-packages (from jupyter-server<3,>=2.4.0->notebook>=6.4.10->great_expectations) (0.17.1)\n",
      "Requirement already satisfied: websocket-client>=1.7 in /opt/anaconda3/lib/python3.13/site-packages (from jupyter-server<3,>=2.4.0->notebook>=6.4.10->great_expectations) (1.8.0)\n",
      "Requirement already satisfied: async-lru>=1.0.0 in /opt/anaconda3/lib/python3.13/site-packages (from jupyterlab<4.4,>=4.3.4->notebook>=6.4.10->great_expectations) (2.0.4)\n",
      "Requirement already satisfied: httpx>=0.25.0 in /opt/anaconda3/lib/python3.13/site-packages (from jupyterlab<4.4,>=4.3.4->notebook>=6.4.10->great_expectations) (0.28.1)\n",
      "Requirement already satisfied: ipykernel>=6.5.0 in /opt/anaconda3/lib/python3.13/site-packages (from jupyterlab<4.4,>=4.3.4->notebook>=6.4.10->great_expectations) (6.29.5)\n",
      "Requirement already satisfied: jupyter-lsp>=2.0.0 in /opt/anaconda3/lib/python3.13/site-packages (from jupyterlab<4.4,>=4.3.4->notebook>=6.4.10->great_expectations) (2.2.5)\n",
      "Requirement already satisfied: setuptools>=40.8.0 in /opt/anaconda3/lib/python3.13/site-packages (from jupyterlab<4.4,>=4.3.4->notebook>=6.4.10->great_expectations) (72.1.0)\n",
      "Requirement already satisfied: babel>=2.10 in /opt/anaconda3/lib/python3.13/site-packages (from jupyterlab-server<3,>=2.27.1->notebook>=6.4.10->great_expectations) (2.16.0)\n",
      "Requirement already satisfied: json5>=0.9.0 in /opt/anaconda3/lib/python3.13/site-packages (from jupyterlab-server<3,>=2.27.1->notebook>=6.4.10->great_expectations) (0.9.25)\n",
      "Requirement already satisfied: idna>=2.8 in /opt/anaconda3/lib/python3.13/site-packages (from anyio>=3.1.0->jupyter-server<3,>=2.4.0->notebook>=6.4.10->great_expectations) (3.7)\n",
      "Requirement already satisfied: sniffio>=1.1 in /opt/anaconda3/lib/python3.13/site-packages (from anyio>=3.1.0->jupyter-server<3,>=2.4.0->notebook>=6.4.10->great_expectations) (1.3.0)\n",
      "Requirement already satisfied: argon2-cffi-bindings in /opt/anaconda3/lib/python3.13/site-packages (from argon2-cffi>=21.1->jupyter-server<3,>=2.4.0->notebook>=6.4.10->great_expectations) (21.2.0)\n",
      "Requirement already satisfied: certifi in /opt/anaconda3/lib/python3.13/site-packages (from httpx>=0.25.0->jupyterlab<4.4,>=4.3.4->notebook>=6.4.10->great_expectations) (2025.6.15)\n",
      "Requirement already satisfied: httpcore==1.* in /opt/anaconda3/lib/python3.13/site-packages (from httpx>=0.25.0->jupyterlab<4.4,>=4.3.4->notebook>=6.4.10->great_expectations) (1.0.9)\n",
      "Requirement already satisfied: h11>=0.16 in /opt/anaconda3/lib/python3.13/site-packages (from httpcore==1.*->httpx>=0.25.0->jupyterlab<4.4,>=4.3.4->notebook>=6.4.10->great_expectations) (0.16.0)\n",
      "Requirement already satisfied: appnope in /opt/anaconda3/lib/python3.13/site-packages (from ipykernel>=6.5.0->jupyterlab<4.4,>=4.3.4->notebook>=6.4.10->great_expectations) (0.1.3)\n",
      "Requirement already satisfied: debugpy>=1.6.5 in /opt/anaconda3/lib/python3.13/site-packages (from ipykernel>=6.5.0->jupyterlab<4.4,>=4.3.4->notebook>=6.4.10->great_expectations) (1.8.11)\n",
      "Requirement already satisfied: nest-asyncio in /opt/anaconda3/lib/python3.13/site-packages (from ipykernel>=6.5.0->jupyterlab<4.4,>=4.3.4->notebook>=6.4.10->great_expectations) (1.6.0)\n",
      "Requirement already satisfied: psutil in /opt/anaconda3/lib/python3.13/site-packages (from ipykernel>=6.5.0->jupyterlab<4.4,>=4.3.4->notebook>=6.4.10->great_expectations) (5.9.0)\n",
      "Requirement already satisfied: python-json-logger>=2.0.4 in /opt/anaconda3/lib/python3.13/site-packages (from jupyter-events>=0.11.0->jupyter-server<3,>=2.4.0->notebook>=6.4.10->great_expectations) (3.2.1)\n",
      "Requirement already satisfied: pyyaml>=5.3 in /opt/anaconda3/lib/python3.13/site-packages (from jupyter-events>=0.11.0->jupyter-server<3,>=2.4.0->notebook>=6.4.10->great_expectations) (6.0.2)\n",
      "Requirement already satisfied: rfc3339-validator in /opt/anaconda3/lib/python3.13/site-packages (from jupyter-events>=0.11.0->jupyter-server<3,>=2.4.0->notebook>=6.4.10->great_expectations) (0.1.4)\n",
      "Requirement already satisfied: rfc3986-validator>=0.1.1 in /opt/anaconda3/lib/python3.13/site-packages (from jupyter-events>=0.11.0->jupyter-server<3,>=2.4.0->notebook>=6.4.10->great_expectations) (0.1.1)\n",
      "Requirement already satisfied: fqdn in /opt/anaconda3/lib/python3.13/site-packages (from jsonschema[format-nongpl]>=4.18.0->jupyter-events>=0.11.0->jupyter-server<3,>=2.4.0->notebook>=6.4.10->great_expectations) (1.5.1)\n",
      "Requirement already satisfied: isoduration in /opt/anaconda3/lib/python3.13/site-packages (from jsonschema[format-nongpl]>=4.18.0->jupyter-events>=0.11.0->jupyter-server<3,>=2.4.0->notebook>=6.4.10->great_expectations) (20.11.0)\n",
      "Requirement already satisfied: uri-template in /opt/anaconda3/lib/python3.13/site-packages (from jsonschema[format-nongpl]>=4.18.0->jupyter-events>=0.11.0->jupyter-server<3,>=2.4.0->notebook>=6.4.10->great_expectations) (1.3.0)\n",
      "Requirement already satisfied: webcolors>=24.6.0 in /opt/anaconda3/lib/python3.13/site-packages (from jsonschema[format-nongpl]>=4.18.0->jupyter-events>=0.11.0->jupyter-server<3,>=2.4.0->notebook>=6.4.10->great_expectations) (24.11.1)\n",
      "Requirement already satisfied: beautifulsoup4 in /opt/anaconda3/lib/python3.13/site-packages (from nbconvert>=6.4.4->jupyter-server<3,>=2.4.0->notebook>=6.4.10->great_expectations) (4.12.3)\n",
      "Requirement already satisfied: bleach!=5.0.0 in /opt/anaconda3/lib/python3.13/site-packages (from bleach[css]!=5.0.0->nbconvert>=6.4.4->jupyter-server<3,>=2.4.0->notebook>=6.4.10->great_expectations) (6.2.0)\n",
      "Requirement already satisfied: defusedxml in /opt/anaconda3/lib/python3.13/site-packages (from nbconvert>=6.4.4->jupyter-server<3,>=2.4.0->notebook>=6.4.10->great_expectations) (0.7.1)\n",
      "Requirement already satisfied: jupyterlab-pygments in /opt/anaconda3/lib/python3.13/site-packages (from nbconvert>=6.4.4->jupyter-server<3,>=2.4.0->notebook>=6.4.10->great_expectations) (0.3.0)\n",
      "Requirement already satisfied: nbclient>=0.5.0 in /opt/anaconda3/lib/python3.13/site-packages (from nbconvert>=6.4.4->jupyter-server<3,>=2.4.0->notebook>=6.4.10->great_expectations) (0.10.2)\n",
      "Requirement already satisfied: pandocfilters>=1.4.1 in /opt/anaconda3/lib/python3.13/site-packages (from nbconvert>=6.4.4->jupyter-server<3,>=2.4.0->notebook>=6.4.10->great_expectations) (1.5.0)\n",
      "Requirement already satisfied: webencodings in /opt/anaconda3/lib/python3.13/site-packages (from bleach!=5.0.0->bleach[css]!=5.0.0->nbconvert>=6.4.4->jupyter-server<3,>=2.4.0->notebook>=6.4.10->great_expectations) (0.5.1)\n",
      "Requirement already satisfied: tinycss2<1.5,>=1.1.0 in /opt/anaconda3/lib/python3.13/site-packages (from bleach[css]!=5.0.0->nbconvert>=6.4.4->jupyter-server<3,>=2.4.0->notebook>=6.4.10->great_expectations) (1.4.0)\n",
      "Requirement already satisfied: tzdata>=2022.7 in /opt/anaconda3/lib/python3.13/site-packages (from pandas>=1.3.0->great_expectations) (2025.2)\n",
      "Requirement already satisfied: ptyprocess>=0.5 in /opt/anaconda3/lib/python3.13/site-packages (from pexpect>4.3->Ipython>=7.16.3->great_expectations) (0.7.0)\n",
      "Requirement already satisfied: annotated-types>=0.6.0 in /opt/anaconda3/lib/python3.13/site-packages (from pydantic>=1.9.2->great_expectations) (0.6.0)\n",
      "Requirement already satisfied: pydantic-core==2.27.1 in /opt/anaconda3/lib/python3.13/site-packages (from pydantic>=1.9.2->great_expectations) (2.27.1)\n",
      "Requirement already satisfied: six>=1.5 in /opt/anaconda3/lib/python3.13/site-packages (from python-dateutil>=2.8.1->great_expectations) (1.17.0)\n",
      "Requirement already satisfied: charset-normalizer<4,>=2 in /opt/anaconda3/lib/python3.13/site-packages (from requests>=2.20->great_expectations) (3.3.2)\n",
      "Requirement already satisfied: soupsieve>1.2 in /opt/anaconda3/lib/python3.13/site-packages (from beautifulsoup4->nbconvert>=6.4.4->jupyter-server<3,>=2.4.0->notebook>=6.4.10->great_expectations) (2.5)\n",
      "Requirement already satisfied: arrow>=0.15.0 in /opt/anaconda3/lib/python3.13/site-packages (from isoduration->jsonschema[format-nongpl]>=4.18.0->jupyter-events>=0.11.0->jupyter-server<3,>=2.4.0->notebook>=6.4.10->great_expectations) (1.3.0)\n",
      "Requirement already satisfied: executing in /opt/anaconda3/lib/python3.13/site-packages (from stack-data->Ipython>=7.16.3->great_expectations) (0.8.3)\n",
      "Requirement already satisfied: asttokens in /opt/anaconda3/lib/python3.13/site-packages (from stack-data->Ipython>=7.16.3->great_expectations) (3.0.0)\n",
      "Requirement already satisfied: pure-eval in /opt/anaconda3/lib/python3.13/site-packages (from stack-data->Ipython>=7.16.3->great_expectations) (0.2.2)\n"
     ]
    }
   ],
   "source": [
    "!pip install great_expectations"
   ]
  },
  {
   "cell_type": "code",
   "execution_count": null,
   "id": "f2e47d66-fb7a-4d42-9047-8341e2325387",
   "metadata": {},
   "outputs": [],
   "source": []
  },
  {
   "cell_type": "code",
   "execution_count": null,
   "id": "2e2b6bd5-0d2a-4dcc-bca7-ba97debfd170",
   "metadata": {},
   "outputs": [],
   "source": []
  },
  {
   "cell_type": "markdown",
   "id": "de528788-62c2-4e53-85ba-715583de2c87",
   "metadata": {},
   "source": [
    "### DataFrame después de la limpieza"
   ]
  },
  {
   "cell_type": "code",
   "execution_count": 83,
   "id": "77eb3e73-97d1-47d3-a11b-8430d5b9f97d",
   "metadata": {},
   "outputs": [
    {
     "name": "stdout",
     "output_type": "stream",
     "text": [
      "columnas_esperadas: PASA\n",
      "id_unico: PASA\n",
      "edad_positiva: PASA\n",
      "sexo_valido: PASA\n",
      "email_valido: PASA\n"
     ]
    }
   ],
   "source": [
    "import great_expectations as ge\n",
    "\n",
    "# Convertir el DataFrame limpio a formato Great Expectations\n",
    "ge_df = ge.from_pandas(df_hospital_limpio)\n",
    "\n",
    "# Validaciones\n",
    "results = {\n",
    "    \"columnas_esperadas\": ge_df.expect_table_columns_to_match_ordered_list(\n",
    "        column_list=[\"id_paciente\", \"nombre\", \"fecha_nacimiento\", \"edad\", \"sexo\", \"email\", \"telefono\", \"ciudad\"]\n",
    "    ),\n",
    "    \"id_unico\": ge_df.expect_column_values_to_be_unique(\"id_paciente\"),\n",
    "    \"edad_positiva\": ge_df.expect_column_values_to_be_between(\"edad\", min_value=0, max_value=120, mostly=1.0),\n",
    "    \"sexo_valido\": ge_df.expect_column_values_to_be_in_set(\"sexo\", [\"Male\", \"Female\", None]),\n",
    "    \"email_valido\": ge_df.expect_column_values_to_match_regex(\"email\", r\"^[^@\\s]+@[^@\\s]+\\.[^@\\s]+$\", mostly=0.9)\n",
    "}\n",
    "\n",
    "# Mostrar resumen de validaciones\n",
    "for test, result in results.items():\n",
    "    print(f\"{test}: {'PASA' if result.success else 'FALLA'}\")\n"
   ]
  },
  {
   "cell_type": "markdown",
   "id": "d4b351f2-1d2d-4e43-a47d-3fba5d7be9ed",
   "metadata": {},
   "source": [
    "## Pruebas automáticas con Pytest"
   ]
  },
  {
   "cell_type": "markdown",
   "id": "d07cbde0",
   "metadata": {},
   "source": [
    "## Ejecución de pruebas Pytest"
   ]
  },
  {
   "cell_type": "code",
   "execution_count": 86,
   "id": "cccb2b39-4659-45b0-905d-0851e19b266a",
   "metadata": {},
   "outputs": [
    {
     "name": "stdout",
     "output_type": "stream",
     "text": [
      "\n",
      "Resultado de validaciones:\n",
      "Columnas esperadas: PASA\n",
      "ID único: PASA\n",
      "Edad positiva: PASA\n",
      "Sexo válido: PASA\n",
      "Email válido: PASA\n"
     ]
    }
   ],
   "source": [
    "import pandas as pd\n",
    "import json\n",
    "import re\n",
    "\n",
    "def test_id_paciente_unico(df):\n",
    "    # Normalizar IDs: convertir a string, quitar espacios\n",
    "    ids_normalizados = df['id_paciente'].astype(str).str.strip()\n",
    "    \n",
    "    # Contar ocurrencias\n",
    "    conteo = ids_normalizados.value_counts()\n",
    "    duplicados = conteo[conteo > 1]\n",
    "\n",
    "    if not duplicados.empty:\n",
    "        print(\"❌ Se encontraron IDs duplicados (valor y cantidad):\")\n",
    "        print(duplicados)\n",
    "        print(\"\\nFilas con duplicados:\")\n",
    "        print(df[df['id_paciente'].astype(str).str.strip().isin(duplicados.index)][['id_paciente', 'nombre']])\n",
    "        return False\n",
    "    else:\n",
    "        return True\n",
    "\n",
    "\n",
    "\n",
    "# Funciones de validación que devuelven bool e imprimen resultados\n",
    "def test_columnas_esperadas(df):\n",
    "    columnas_esperadas = {'id_paciente', 'nombre', 'fecha_nacimiento', 'edad', 'sexo', 'email', 'telefono', 'ciudad'}\n",
    "    resultado = columnas_esperadas.issubset(df.columns)\n",
    "    if not resultado:\n",
    "        print(\"Columnas faltantes:\", columnas_esperadas - set(df.columns))\n",
    "    return resultado\n",
    "\n",
    "#def test_id_paciente_unico(df):\n",
    "#    resultado = df['id_paciente'].is_unique\n",
    "  #  if not resultado:\n",
    " #       print(\"IDs duplicados detectados\")\n",
    "   # return resultado\n",
    "\n",
    "def test_edad_positiva(df):\n",
    "    edades = df['edad'].dropna()\n",
    "    resultado = (edades >= 0).all()\n",
    "    if not resultado:\n",
    "        print(\"Edades negativas encontradas:\", edades[edades < 0].tolist())\n",
    "    return resultado\n",
    "\n",
    "def test_formato_sexo_valido(df):\n",
    "    valores_validos = {'Male', 'Female', None}\n",
    "    invalidos = df['sexo'].dropna()[~df['sexo'].dropna().isin(valores_validos)]\n",
    "    resultado = invalidos.empty\n",
    "    if not resultado:\n",
    "        print(\"Valores inválidos en sexo:\", invalidos.unique().tolist())\n",
    "    return resultado\n",
    "\n",
    "def test_email_valido(df):\n",
    "    pattern = r'^[^@\\s]+@[^@\\s]+\\.[^@\\s]+$'\n",
    "    emails = df['email'].dropna()\n",
    "    invalidos = emails[~emails.apply(lambda x: re.match(pattern, x) is not None)]\n",
    "    resultado = invalidos.empty\n",
    "    if not resultado:\n",
    "        print(\"Emails inválidos:\", invalidos.tolist())\n",
    "    return resultado\n",
    "\n",
    "# Ejecutar tests\n",
    "tests = {\n",
    "    \"Columnas esperadas\": test_columnas_esperadas(df_hospital_limpio),\n",
    "    \"ID único\": test_id_paciente_unico(df_hospital_limpio),\n",
    "    \"ID único\": test_id_paciente_unico(df_hospital_limpio),\n",
    "    \"Edad positiva\": test_edad_positiva(df_hospital_limpio),\n",
    "    \"Sexo válido\": test_formato_sexo_valido(df_hospital_limpio),\n",
    "    \"Email válido\": test_email_valido(df_hospital_limpio),\n",
    "}\n",
    "\n",
    "# Imprimir resumen\n",
    "print(\"\\nResultado de validaciones:\")\n",
    "for nombre, resultado in tests.items():\n",
    "    print(f\"{nombre}: {'PASA' if resultado else 'FALLA'}\")\n"
   ]
  },
  {
   "cell_type": "markdown",
   "id": "d1a4fe51",
   "metadata": {},
   "source": [
    "## Simulación de migración a Amazon Redshift"
   ]
  },
  {
   "cell_type": "code",
   "execution_count": 85,
   "id": "b1c27dcc-322a-4f35-b85e-36fa4fa9fe22",
   "metadata": {},
   "outputs": [],
   "source": [
    "# import pandas as pd\n",
    "# import json\n",
    "# import psycopg2\n",
    "# from sqlalchemy import create_engine\n",
    "\n",
    "\n",
    "# # Conexión simulada a Redshift (ajusta con tus credenciales reales)\n",
    "# REDSHIFT_USER = 'your_username'\n",
    "# REDSHIFT_PASS = 'your_password'\n",
    "# REDSHIFT_HOST = 'your-redshift-cluster-url.region.redshift.amazonaws.com'\n",
    "# REDSHIFT_PORT = '5439'\n",
    "# REDSHIFT_DB = 'your_database'\n",
    "# REDSHIFT_SCHEMA = 'public'\n",
    "# REDSHIFT_TABLE = 'pacientes_limpios'\n",
    "\n",
    "# # Crear engine SQLAlchemy\n",
    "# engine = create_engine(f'postgresql+psycopg2://{REDSHIFT_USER}:{REDSHIFT_PASS}@{REDSHIFT_HOST}:{REDSHIFT_PORT}/{REDSHIFT_DB}')\n",
    "\n",
    "# # Cargar los datos a Redshift (simulación: usa 'if_exists=replace' para cargar desde cero)\n",
    "# df_pacientes.to_sql(REDSHIFT_TABLE, engine, schema=REDSHIFT_SCHEMA, index=False, if_exists='replace')\n",
    "\n",
    "# print(\"Datos cargados exitosamente a Redshift (simulado).\")\n"
   ]
  }
 ],
 "metadata": {
  "kernelspec": {
   "display_name": "Python [conda env:base] *",
   "language": "python",
   "name": "conda-base-py"
  },
  "language_info": {
   "codemirror_mode": {
    "name": "ipython",
    "version": 3
   },
   "file_extension": ".py",
   "mimetype": "text/x-python",
   "name": "python",
   "nbconvert_exporter": "python",
   "pygments_lexer": "ipython3",
   "version": "3.13.5"
  }
 },
 "nbformat": 4,
 "nbformat_minor": 5
}
